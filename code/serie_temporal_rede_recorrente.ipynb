{
 "cells": [
  {
   "cell_type": "code",
   "execution_count": 35,
   "metadata": {
    "colab": {},
    "colab_type": "code",
    "executionInfo": {
     "elapsed": 1856,
     "status": "ok",
     "timestamp": 1599589129272,
     "user": {
      "displayName": "Denny Seccon",
      "photoUrl": "https://lh3.googleusercontent.com/a-/AOh14GgJKBMgIypXsiOd8ZOSskERpZBMuJN6csHlr9Wo=s64",
      "userId": "03904535882374894686"
     },
     "user_tz": 180
    },
    "id": "2zFQQOYVn0rC"
   },
   "outputs": [],
   "source": [
    "import pandas as pd\n",
    "base = pd.read_csv('../dataset/dataset_train.csv')\n",
    "base = base.dropna()"
   ]
  },
  {
   "cell_type": "code",
   "execution_count": 36,
   "metadata": {},
   "outputs": [
    {
     "data": {
      "text/html": [
       "<div>\n",
       "<style scoped>\n",
       "    .dataframe tbody tr th:only-of-type {\n",
       "        vertical-align: middle;\n",
       "    }\n",
       "\n",
       "    .dataframe tbody tr th {\n",
       "        vertical-align: top;\n",
       "    }\n",
       "\n",
       "    .dataframe thead th {\n",
       "        text-align: right;\n",
       "    }\n",
       "</style>\n",
       "<table border=\"1\" class=\"dataframe\">\n",
       "  <thead>\n",
       "    <tr style=\"text-align: right;\">\n",
       "      <th></th>\n",
       "      <th>negotiation_date</th>\n",
       "      <th>sold_price</th>\n",
       "      <th>product</th>\n",
       "    </tr>\n",
       "  </thead>\n",
       "  <tbody>\n",
       "    <tr>\n",
       "      <th>0</th>\n",
       "      <td>07/01/2014</td>\n",
       "      <td>308.33</td>\n",
       "      <td>Polpa Cítrica</td>\n",
       "    </tr>\n",
       "    <tr>\n",
       "      <th>1</th>\n",
       "      <td>08/01/2014</td>\n",
       "      <td>300.67</td>\n",
       "      <td>Polpa Cítrica</td>\n",
       "    </tr>\n",
       "    <tr>\n",
       "      <th>2</th>\n",
       "      <td>09/01/2014</td>\n",
       "      <td>295.00</td>\n",
       "      <td>Polpa Cítrica</td>\n",
       "    </tr>\n",
       "    <tr>\n",
       "      <th>3</th>\n",
       "      <td>10/01/2014</td>\n",
       "      <td>324.00</td>\n",
       "      <td>Polpa Cítrica</td>\n",
       "    </tr>\n",
       "    <tr>\n",
       "      <th>4</th>\n",
       "      <td>11/01/2014</td>\n",
       "      <td>250.71</td>\n",
       "      <td>Polpa Cítrica</td>\n",
       "    </tr>\n",
       "    <tr>\n",
       "      <th>...</th>\n",
       "      <td>...</td>\n",
       "      <td>...</td>\n",
       "      <td>...</td>\n",
       "    </tr>\n",
       "    <tr>\n",
       "      <th>1632</th>\n",
       "      <td>26/07/2019</td>\n",
       "      <td>324.09</td>\n",
       "      <td>Polpa Cítrica</td>\n",
       "    </tr>\n",
       "    <tr>\n",
       "      <th>1633</th>\n",
       "      <td>27/07/2019</td>\n",
       "      <td>320.00</td>\n",
       "      <td>Polpa Cítrica</td>\n",
       "    </tr>\n",
       "    <tr>\n",
       "      <th>1634</th>\n",
       "      <td>29/07/2019</td>\n",
       "      <td>305.00</td>\n",
       "      <td>Polpa Cítrica</td>\n",
       "    </tr>\n",
       "    <tr>\n",
       "      <th>1635</th>\n",
       "      <td>30/07/2019</td>\n",
       "      <td>350.00</td>\n",
       "      <td>Polpa Cítrica</td>\n",
       "    </tr>\n",
       "    <tr>\n",
       "      <th>1636</th>\n",
       "      <td>31/07/2019</td>\n",
       "      <td>315.00</td>\n",
       "      <td>Polpa Cítrica</td>\n",
       "    </tr>\n",
       "  </tbody>\n",
       "</table>\n",
       "<p>1637 rows × 3 columns</p>\n",
       "</div>"
      ],
      "text/plain": [
       "     negotiation_date  sold_price        product\n",
       "0          07/01/2014      308.33  Polpa Cítrica\n",
       "1          08/01/2014      300.67  Polpa Cítrica\n",
       "2          09/01/2014      295.00  Polpa Cítrica\n",
       "3          10/01/2014      324.00  Polpa Cítrica\n",
       "4          11/01/2014      250.71  Polpa Cítrica\n",
       "...               ...         ...            ...\n",
       "1632       26/07/2019      324.09  Polpa Cítrica\n",
       "1633       27/07/2019      320.00  Polpa Cítrica\n",
       "1634       29/07/2019      305.00  Polpa Cítrica\n",
       "1635       30/07/2019      350.00  Polpa Cítrica\n",
       "1636       31/07/2019      315.00  Polpa Cítrica\n",
       "\n",
       "[1637 rows x 3 columns]"
      ]
     },
     "execution_count": 36,
     "metadata": {},
     "output_type": "execute_result"
    }
   ],
   "source": [
    "base"
   ]
  },
  {
   "cell_type": "code",
   "execution_count": 37,
   "metadata": {},
   "outputs": [],
   "source": [
    "from sklearn.preprocessing import MinMaxScaler\n",
    "scaler_price = MinMaxScaler()\n",
    "base[['sold_price']] = scaler_price.fit_transform(base[['sold_price']])"
   ]
  },
  {
   "cell_type": "code",
   "execution_count": 38,
   "metadata": {},
   "outputs": [
    {
     "data": {
      "text/html": [
       "<div>\n",
       "<style scoped>\n",
       "    .dataframe tbody tr th:only-of-type {\n",
       "        vertical-align: middle;\n",
       "    }\n",
       "\n",
       "    .dataframe tbody tr th {\n",
       "        vertical-align: top;\n",
       "    }\n",
       "\n",
       "    .dataframe thead th {\n",
       "        text-align: right;\n",
       "    }\n",
       "</style>\n",
       "<table border=\"1\" class=\"dataframe\">\n",
       "  <thead>\n",
       "    <tr style=\"text-align: right;\">\n",
       "      <th></th>\n",
       "      <th>negotiation_date</th>\n",
       "      <th>sold_price</th>\n",
       "      <th>product</th>\n",
       "    </tr>\n",
       "  </thead>\n",
       "  <tbody>\n",
       "    <tr>\n",
       "      <th>0</th>\n",
       "      <td>07/01/2014</td>\n",
       "      <td>0.233329</td>\n",
       "      <td>Polpa Cítrica</td>\n",
       "    </tr>\n",
       "    <tr>\n",
       "      <th>1</th>\n",
       "      <td>08/01/2014</td>\n",
       "      <td>0.222386</td>\n",
       "      <td>Polpa Cítrica</td>\n",
       "    </tr>\n",
       "    <tr>\n",
       "      <th>2</th>\n",
       "      <td>09/01/2014</td>\n",
       "      <td>0.214286</td>\n",
       "      <td>Polpa Cítrica</td>\n",
       "    </tr>\n",
       "    <tr>\n",
       "      <th>3</th>\n",
       "      <td>10/01/2014</td>\n",
       "      <td>0.255714</td>\n",
       "      <td>Polpa Cítrica</td>\n",
       "    </tr>\n",
       "    <tr>\n",
       "      <th>4</th>\n",
       "      <td>11/01/2014</td>\n",
       "      <td>0.151014</td>\n",
       "      <td>Polpa Cítrica</td>\n",
       "    </tr>\n",
       "    <tr>\n",
       "      <th>...</th>\n",
       "      <td>...</td>\n",
       "      <td>...</td>\n",
       "      <td>...</td>\n",
       "    </tr>\n",
       "    <tr>\n",
       "      <th>1632</th>\n",
       "      <td>26/07/2019</td>\n",
       "      <td>0.255843</td>\n",
       "      <td>Polpa Cítrica</td>\n",
       "    </tr>\n",
       "    <tr>\n",
       "      <th>1633</th>\n",
       "      <td>27/07/2019</td>\n",
       "      <td>0.250000</td>\n",
       "      <td>Polpa Cítrica</td>\n",
       "    </tr>\n",
       "    <tr>\n",
       "      <th>1634</th>\n",
       "      <td>29/07/2019</td>\n",
       "      <td>0.228571</td>\n",
       "      <td>Polpa Cítrica</td>\n",
       "    </tr>\n",
       "    <tr>\n",
       "      <th>1635</th>\n",
       "      <td>30/07/2019</td>\n",
       "      <td>0.292857</td>\n",
       "      <td>Polpa Cítrica</td>\n",
       "    </tr>\n",
       "    <tr>\n",
       "      <th>1636</th>\n",
       "      <td>31/07/2019</td>\n",
       "      <td>0.242857</td>\n",
       "      <td>Polpa Cítrica</td>\n",
       "    </tr>\n",
       "  </tbody>\n",
       "</table>\n",
       "<p>1637 rows × 3 columns</p>\n",
       "</div>"
      ],
      "text/plain": [
       "     negotiation_date  sold_price        product\n",
       "0          07/01/2014    0.233329  Polpa Cítrica\n",
       "1          08/01/2014    0.222386  Polpa Cítrica\n",
       "2          09/01/2014    0.214286  Polpa Cítrica\n",
       "3          10/01/2014    0.255714  Polpa Cítrica\n",
       "4          11/01/2014    0.151014  Polpa Cítrica\n",
       "...               ...         ...            ...\n",
       "1632       26/07/2019    0.255843  Polpa Cítrica\n",
       "1633       27/07/2019    0.250000  Polpa Cítrica\n",
       "1634       29/07/2019    0.228571  Polpa Cítrica\n",
       "1635       30/07/2019    0.292857  Polpa Cítrica\n",
       "1636       31/07/2019    0.242857  Polpa Cítrica\n",
       "\n",
       "[1637 rows x 3 columns]"
      ]
     },
     "execution_count": 38,
     "metadata": {},
     "output_type": "execute_result"
    }
   ],
   "source": [
    "base"
   ]
  },
  {
   "cell_type": "code",
   "execution_count": 39,
   "metadata": {},
   "outputs": [],
   "source": [
    "base = base.iloc[:, 1].values"
   ]
  },
  {
   "cell_type": "code",
   "execution_count": 40,
   "metadata": {
    "colab": {
     "base_uri": "https://localhost:8080/",
     "height": 281
    },
    "colab_type": "code",
    "executionInfo": {
     "elapsed": 2822,
     "status": "ok",
     "timestamp": 1599589130294,
     "user": {
      "displayName": "Denny Seccon",
      "photoUrl": "https://lh3.googleusercontent.com/a-/AOh14GgJKBMgIypXsiOd8ZOSskERpZBMuJN6csHlr9Wo=s64",
      "userId": "03904535882374894686"
     },
     "user_tz": 180
    },
    "id": "4U_CP12CoBmu",
    "outputId": "a3bad56f-ad90-4948-e050-2fc2ae21b31f"
   },
   "outputs": [
    {
     "data": {
      "image/png": "[encoded data removed]",
      "text/plain": [
       "<Figure size 1440x432 with 1 Axes>"
      ]
     },
     "metadata": {
      "needs_background": "light"
     },
     "output_type": "display_data"
    }
   ],
   "source": [
    "import matplotlib.pyplot as plt\n",
    "plt.figure(figsize=(20,6))\n",
    "plt.plot(base)\n",
    "plt.show()"
   ]
  },
  {
   "cell_type": "code",
   "execution_count": 41,
   "metadata": {
    "colab": {},
    "colab_type": "code",
    "executionInfo": {
     "elapsed": 2805,
     "status": "ok",
     "timestamp": 1599589130299,
     "user": {
      "displayName": "Denny Seccon",
      "photoUrl": "https://lh3.googleusercontent.com/a-/AOh14GgJKBMgIypXsiOd8ZOSskERpZBMuJN6csHlr9Wo=s64",
      "userId": "03904535882374894686"
     },
     "user_tz": 180
    },
    "id": "21e3lO6boFEG"
   },
   "outputs": [],
   "source": [
    "periodos = 30 # de quantos em quantos periodos sao os dados ()\n",
    "previsao_futura = 1 # saber um periodo\n",
    "\n",
    "X = base[0:(len(base) - (len(base) % periodos))]\n",
    "X_batches = X.reshape(-1, periodos, 1)\n",
    "y = base[1:(len(base) - (len(base) % periodos)) + previsao_futura]\n",
    "y_batches = y.reshape(-1, periodos, 1)\n",
    "\n",
    "X_teste = base[-(periodos + previsao_futura):]\n",
    "X_teste = X_teste[:periodos]\n",
    "X_teste = X_teste.reshape(-1, periodos, 1)\n",
    "y_teste = base[-(periodos):]\n",
    "y_teste = y_teste.reshape(-1, periodos, 1)"
   ]
  },
  {
   "cell_type": "code",
   "execution_count": 42,
   "metadata": {
    "colab": {
     "base_uri": "https://localhost:8080/",
     "height": 33
    },
    "colab_type": "code",
    "executionInfo": {
     "elapsed": 2782,
     "status": "ok",
     "timestamp": 1599589130304,
     "user": {
      "displayName": "Denny Seccon",
      "photoUrl": "https://lh3.googleusercontent.com/a-/AOh14GgJKBMgIypXsiOd8ZOSskERpZBMuJN6csHlr9Wo=s64",
      "userId": "03904535882374894686"
     },
     "user_tz": 180
    },
    "id": "7q4j8NwkoO_c",
    "outputId": "f201714d-797f-42a5-b112-25e56e0f2cb4"
   },
   "outputs": [
    {
     "data": {
      "text/plain": [
       "((54, 30, 1), (54, 30, 1), (1, 30, 1), (1, 30, 1))"
      ]
     },
     "execution_count": 42,
     "metadata": {},
     "output_type": "execute_result"
    }
   ],
   "source": [
    "X_batches.shape, y_batches.shape, X_teste.shape, y_teste.shape"
   ]
  },
  {
   "cell_type": "code",
   "execution_count": 43,
   "metadata": {
    "colab": {
     "base_uri": "https://localhost:8080/",
     "height": 35
    },
    "colab_type": "code",
    "executionInfo": {
     "elapsed": 4568,
     "status": "ok",
     "timestamp": 1599589132131,
     "user": {
      "displayName": "Denny Seccon",
      "photoUrl": "https://lh3.googleusercontent.com/a-/AOh14GgJKBMgIypXsiOd8ZOSskERpZBMuJN6csHlr9Wo=s64",
      "userId": "03904535882374894686"
     },
     "user_tz": 180
    },
    "id": "VI6U9clZoWVP",
    "outputId": "3d6ab876-9c94-4196-87f5-8fc2da184619"
   },
   "outputs": [
    {
     "data": {
      "text/plain": [
       "'2.4.0'"
      ]
     },
     "execution_count": 43,
     "metadata": {},
     "output_type": "execute_result"
    }
   ],
   "source": [
    "import tensorflow as tf\n",
    "tf.random.set_seed(42)\n",
    "\n",
    "tf.__version__"
   ]
  },
  {
   "cell_type": "code",
   "execution_count": 52,
   "metadata": {
    "colab": {},
    "colab_type": "code",
    "executionInfo": {
     "elapsed": 4548,
     "status": "ok",
     "timestamp": 1599589132132,
     "user": {
      "displayName": "Denny Seccon",
      "photoUrl": "https://lh3.googleusercontent.com/a-/AOh14GgJKBMgIypXsiOd8ZOSskERpZBMuJN6csHlr9Wo=s64",
      "userId": "03904535882374894686"
     },
     "user_tz": 180
    },
    "id": "HUfOgNoSpzSU"
   },
   "outputs": [],
   "source": [
    "entradas = 1\n",
    "neuronios_oculta = 100\n",
    "neuronios_saida = 1"
   ]
  },
  {
   "cell_type": "markdown",
   "metadata": {
    "colab_type": "text",
    "id": "ytuE7-d8J0_u"
   },
   "source": [
    "# Usando RNN Simples"
   ]
  },
  {
   "cell_type": "code",
   "execution_count": 53,
   "metadata": {
    "colab": {},
    "colab_type": "code",
    "executionInfo": {
     "elapsed": 4515,
     "status": "ok",
     "timestamp": 1599589132134,
     "user": {
      "displayName": "Denny Seccon",
      "photoUrl": "https://lh3.googleusercontent.com/a-/AOh14GgJKBMgIypXsiOd8ZOSskERpZBMuJN6csHlr9Wo=s64",
      "userId": "03904535882374894686"
     },
     "user_tz": 180
    },
    "id": "B8RyfbiQp-u4"
   },
   "outputs": [],
   "source": [
    "class Model(tf.keras.Model):\n",
    "    def __init__(self):\n",
    "        super().__init__()\n",
    "        self.rnn = tf.keras.layers.SimpleRNN(units = neuronios_oculta, activation = 'relu', return_sequences = True)\n",
    "        self.dense = tf.keras.layers.Dense(units = neuronios_saida)\n",
    "    \n",
    "    def call(self, inputs):\n",
    "        x = self.rnn(inputs)\n",
    "        x = self.dense(x)\n",
    "\n",
    "        return x"
   ]
  },
  {
   "cell_type": "code",
   "execution_count": 54,
   "metadata": {
    "colab": {
     "base_uri": "https://localhost:8080/",
     "height": 297
    },
    "colab_type": "code",
    "executionInfo": {
     "elapsed": 50039,
     "status": "ok",
     "timestamp": 1599589177697,
     "user": {
      "displayName": "Denny Seccon",
      "photoUrl": "https://lh3.googleusercontent.com/a-/AOh14GgJKBMgIypXsiOd8ZOSskERpZBMuJN6csHlr9Wo=s64",
      "userId": "03904535882374894686"
     },
     "user_tz": 180
    },
    "id": "eAo_BqHtunEw",
    "outputId": "305f1eb8-3f99-40a0-b844-a26de58b7f1d"
   },
   "outputs": [
    {
     "name": "stdout",
     "output_type": "stream",
     "text": [
      "1  erro:  0.090385067313164\n",
      "101  erro:  0.01106162050297986\n",
      "201  erro:  0.008933897276171122\n",
      "301  erro:  0.007978227303300603\n",
      "401  erro:  0.007185763294664194\n",
      "501  erro:  0.006347170321779551\n",
      "601  erro:  0.005634704595304645\n",
      "701  erro:  0.00544640211033708\n",
      "801  erro:  0.0048224129269816935\n",
      "901  erro:  0.004292032387891985\n"
     ]
    }
   ],
   "source": [
    "model = Model()\n",
    "otimizador = tf.keras.optimizers.Adam(learning_rate = 0.001)\n",
    "\n",
    "for epoca in range(1000):\n",
    "    with tf.GradientTape() as tape:\n",
    "        out = model(X_batches)\n",
    "        erro = tf.keras.losses.mean_squared_error(out, y_batches)\n",
    "    \n",
    "    gradientes = tape.gradient(erro, model.trainable_variables)\n",
    "    otimizador.apply_gradients(zip(gradientes, model.trainable_variables))\n",
    "\n",
    "    if epoca % 100 == 0:\n",
    "        print(epoca + 1, ' erro: ', tf.reduce_mean(erro).numpy())"
   ]
  },
  {
   "cell_type": "code",
   "execution_count": 55,
   "metadata": {
    "colab": {
     "base_uri": "https://localhost:8080/",
     "height": 521
    },
    "colab_type": "code",
    "executionInfo": {
     "elapsed": 50017,
     "status": "ok",
     "timestamp": 1599589177703,
     "user": {
      "displayName": "Denny Seccon",
      "photoUrl": "https://lh3.googleusercontent.com/a-/AOh14GgJKBMgIypXsiOd8ZOSskERpZBMuJN6csHlr9Wo=s64",
      "userId": "03904535882374894686"
     },
     "user_tz": 180
    },
    "id": "aRFkzlrvv9Zg",
    "outputId": "3f5b1a77-4d96-46c0-c3da-970e399305d8"
   },
   "outputs": [
    {
     "data": {
      "text/plain": [
       "<tf.Tensor: shape=(1, 30, 1), dtype=float32, numpy=\n",
       "array([[[0.2697851 ],\n",
       "        [0.25590694],\n",
       "        [0.24361752],\n",
       "        [0.26865014],\n",
       "        [0.21392596],\n",
       "        [0.47678927],\n",
       "        [0.41929716],\n",
       "        [0.428753  ],\n",
       "        [0.3153663 ],\n",
       "        [0.40145582],\n",
       "        [0.1515352 ],\n",
       "        [0.3148117 ],\n",
       "        [0.3194734 ],\n",
       "        [0.25763735],\n",
       "        [0.1249037 ],\n",
       "        [0.3158208 ],\n",
       "        [0.287049  ],\n",
       "        [0.19749486],\n",
       "        [0.25985408],\n",
       "        [0.32944748],\n",
       "        [0.29448038],\n",
       "        [0.11275294],\n",
       "        [0.31745604],\n",
       "        [0.34253797],\n",
       "        [0.14990275],\n",
       "        [0.27371126],\n",
       "        [0.28801173],\n",
       "        [0.2399748 ],\n",
       "        [0.21109587],\n",
       "        [0.33879185]]], dtype=float32)>"
      ]
     },
     "execution_count": 55,
     "metadata": {},
     "output_type": "execute_result"
    }
   ],
   "source": [
    "previsoes = model(X_teste)\n",
    "previsoes"
   ]
  },
  {
   "cell_type": "code",
   "execution_count": 56,
   "metadata": {
    "colab": {},
    "colab_type": "code",
    "executionInfo": {
     "elapsed": 50006,
     "status": "ok",
     "timestamp": 1599589177712,
     "user": {
      "displayName": "Denny Seccon",
      "photoUrl": "https://lh3.googleusercontent.com/a-/AOh14GgJKBMgIypXsiOd8ZOSskERpZBMuJN6csHlr9Wo=s64",
      "userId": "03904535882374894686"
     },
     "user_tz": 180
    },
    "id": "TlTrN9hhyA2Q"
   },
   "outputs": [],
   "source": [
    "import numpy as np\n",
    "y_teste = scaler_price.inverse_transform(y_teste.reshape(-1, 1))\n",
    "y_teste2 = np.ravel(y_teste)"
   ]
  },
  {
   "cell_type": "code",
   "execution_count": 57,
   "metadata": {},
   "outputs": [
    {
     "data": {
      "text/plain": [
       "array([221961., 227645., 238145., 221814., 332645., 356095., 428895.,\n",
       "       343145., 217803., 219945., 227645., 228520., 222262., 206645.,\n",
       "       214226., 216753., 223410., 217803., 222976., 219413., 212476.,\n",
       "       214814., 230144., 221814., 225314., 227008., 224145., 213645.,\n",
       "       245145., 220645.])"
      ]
     },
     "execution_count": 57,
     "metadata": {},
     "output_type": "execute_result"
    }
   ],
   "source": [
    "y_teste2"
   ]
  },
  {
   "cell_type": "code",
   "execution_count": 58,
   "metadata": {
    "colab": {},
    "colab_type": "code",
    "executionInfo": {
     "elapsed": 49987,
     "status": "ok",
     "timestamp": 1599589177714,
     "user": {
      "displayName": "Denny Seccon",
      "photoUrl": "https://lh3.googleusercontent.com/a-/AOh14GgJKBMgIypXsiOd8ZOSskERpZBMuJN6csHlr9Wo=s64",
      "userId": "03904535882374894686"
     },
     "user_tz": 180
    },
    "id": "VZlrDI_4yhOb"
   },
   "outputs": [],
   "source": [
    "previsoes2 = scaler_price.inverse_transform(previsoes.numpy().reshape(-1, 1))\n",
    "previsoes2 = np.ravel(previsoes2)"
   ]
  },
  {
   "cell_type": "code",
   "execution_count": 59,
   "metadata": {},
   "outputs": [
    {
     "data": {
      "text/plain": [
       "array([333.84958, 324.13486, 315.53226, 333.0551 , 294.74817, 478.7525 ,\n",
       "       438.508  , 445.1271 , 365.7564 , 426.01904, 251.07463, 365.36816,\n",
       "       368.63135, 325.34616, 232.4326 , 366.07455, 345.9343 , 283.2464 ,\n",
       "       326.89786, 375.61325, 351.13626, 223.92706, 367.21924, 384.77658,\n",
       "       249.93192, 336.5979 , 346.60822, 312.98236, 292.76712, 382.15427],\n",
       "      dtype=float32)"
      ]
     },
     "execution_count": 59,
     "metadata": {},
     "output_type": "execute_result"
    }
   ],
   "source": [
    "previsoes2"
   ]
  },
  {
   "cell_type": "code",
   "execution_count": 60,
   "metadata": {
    "colab": {
     "base_uri": "https://localhost:8080/",
     "height": 33
    },
    "colab_type": "code",
    "executionInfo": {
     "elapsed": 49993,
     "status": "ok",
     "timestamp": 1599589177740,
     "user": {
      "displayName": "Denny Seccon",
      "photoUrl": "https://lh3.googleusercontent.com/a-/AOh14GgJKBMgIypXsiOd8ZOSskERpZBMuJN6csHlr9Wo=s64",
      "userId": "03904535882374894686"
     },
     "user_tz": 180
    },
    "id": "n2Y6SzTVykYD",
    "outputId": "9ebbedb5-2322-49c8-cb8f-6ad4de476223"
   },
   "outputs": [
    {
     "data": {
      "text/plain": [
       "241088.39322611492"
      ]
     },
     "execution_count": 60,
     "metadata": {},
     "output_type": "execute_result"
    }
   ],
   "source": [
    "from sklearn.metrics import mean_absolute_error\n",
    "mae = mean_absolute_error(y_teste2, previsoes2)\n",
    "mae"
   ]
  },
  {
   "cell_type": "code",
   "execution_count": 61,
   "metadata": {},
   "outputs": [
    {
     "name": "stdout",
     "output_type": "stream",
     "text": [
      "246413.8664830188\n"
     ]
    }
   ],
   "source": [
    "print(np.sqrt(\n",
    "        np.square(\n",
    "            np.subtract(y_teste2, previsoes2)).mean()))"
   ]
  },
  {
   "cell_type": "code",
   "execution_count": 188,
   "metadata": {
    "colab": {
     "base_uri": "https://localhost:8080/",
     "height": 281
    },
    "colab_type": "code",
    "executionInfo": {
     "elapsed": 49964,
     "status": "ok",
     "timestamp": 1599589177741,
     "user": {
      "displayName": "Denny Seccon",
      "photoUrl": "https://lh3.googleusercontent.com/a-/AOh14GgJKBMgIypXsiOd8ZOSskERpZBMuJN6csHlr9Wo=s64",
      "userId": "03904535882374894686"
     },
     "user_tz": 180
    },
    "id": "1yIsMhFeyuPB",
    "outputId": "868485ec-5c07-45bf-92fc-a994674f3ba3"
   },
   "outputs": [
    {
     "data": {
      "text/plain": [
       "<matplotlib.legend.Legend at 0x7f9fd9c81a60>"
      ]
     },
     "execution_count": 188,
     "metadata": {},
     "output_type": "execute_result"
    },
    {
     "data": {
      "image/png": "[encoded data removed]",
      "text/plain": [
       "<Figure size 432x288 with 1 Axes>"
      ]
     },
     "metadata": {
      "needs_background": "light"
     },
     "output_type": "display_data"
    }
   ],
   "source": [
    "plt.plot(y_teste2, '*', markersize = 10, label = 'Valor real')\n",
    "plt.plot(previsoes2, 'o', label = 'Previsões')\n",
    "plt.legend()"
   ]
  },
  {
   "cell_type": "code",
   "execution_count": 189,
   "metadata": {
    "colab": {
     "base_uri": "https://localhost:8080/",
     "height": 281
    },
    "colab_type": "code",
    "executionInfo": {
     "elapsed": 50425,
     "status": "ok",
     "timestamp": 1599589178233,
     "user": {
      "displayName": "Denny Seccon",
      "photoUrl": "https://lh3.googleusercontent.com/a-/AOh14GgJKBMgIypXsiOd8ZOSskERpZBMuJN6csHlr9Wo=s64",
      "userId": "03904535882374894686"
     },
     "user_tz": 180
    },
    "id": "2yevGjKCy4WW",
    "outputId": "7ad1b291-b200-4041-8d07-ed4f0ff6498f"
   },
   "outputs": [
    {
     "data": {
      "text/plain": [
       "<matplotlib.legend.Legend at 0x7f9fd95b58e0>"
      ]
     },
     "execution_count": 189,
     "metadata": {},
     "output_type": "execute_result"
    },
    {
     "data": {
      "image/png": "[encoded data removed]",
      "text/plain": [
       "<Figure size 432x288 with 1 Axes>"
      ]
     },
     "metadata": {
      "needs_background": "light"
     },
     "output_type": "display_data"
    }
   ],
   "source": [
    "plt.plot(y_teste2, label = 'Valor real')\n",
    "plt.plot(y_teste2, 'w*', markersize = 10, color = 'red')\n",
    "plt.plot(previsoes2, label = 'Previsões')\n",
    "plt.legend()"
   ]
  },
  {
   "cell_type": "markdown",
   "metadata": {
    "colab_type": "text",
    "id": "l_MlsqQtJ7SH"
   },
   "source": [
    "# Usando LSTM"
   ]
  },
  {
   "cell_type": "code",
   "execution_count": 190,
   "metadata": {
    "colab": {},
    "colab_type": "code",
    "executionInfo": {
     "elapsed": 50368,
     "status": "ok",
     "timestamp": 1599589178234,
     "user": {
      "displayName": "Denny Seccon",
      "photoUrl": "https://lh3.googleusercontent.com/a-/AOh14GgJKBMgIypXsiOd8ZOSskERpZBMuJN6csHlr9Wo=s64",
      "userId": "03904535882374894686"
     },
     "user_tz": 180
    },
    "id": "TWk3o7kbJ6kq"
   },
   "outputs": [],
   "source": [
    "class Model(tf.keras.Model):\n",
    "    def __init__(self):\n",
    "        super().__init__()\n",
    "        self.lstm = tf.keras.layers.LSTM(units = neuronios_oculta, activation = 'relu', return_sequences = True)\n",
    "        self.dense = tf.keras.layers.Dense(units = neuronios_saida)\n",
    "    \n",
    "    def call(self, inputs):\n",
    "        x = self.lstm(inputs)\n",
    "        x = self.dense(x)\n",
    "\n",
    "        return x"
   ]
  },
  {
   "cell_type": "code",
   "execution_count": null,
   "metadata": {
    "colab": {
     "base_uri": "https://localhost:8080/",
     "height": 297
    },
    "colab_type": "code",
    "executionInfo": {
     "elapsed": 131420,
     "status": "ok",
     "timestamp": 1599589259310,
     "user": {
      "displayName": "Denny Seccon",
      "photoUrl": "https://lh3.googleusercontent.com/a-/AOh14GgJKBMgIypXsiOd8ZOSskERpZBMuJN6csHlr9Wo=s64",
      "userId": "03904535882374894686"
     },
     "user_tz": 180
    },
    "id": "qubhgGx8J6k0",
    "outputId": "3f770af7-48a8-4b6b-db8f-63b05b77308f"
   },
   "outputs": [
    {
     "name": "stdout",
     "output_type": "stream",
     "text": [
      "1  erro:  0.1551971600393567\n"
     ]
    }
   ],
   "source": [
    "model = Model()\n",
    "otimizador = tf.keras.optimizers.Adam(learning_rate = 0.001)\n",
    "\n",
    "for epoca in range(3000):\n",
    "    with tf.GradientTape() as tape:\n",
    "        out = model(X_batches)\n",
    "        erro = tf.keras.losses.mean_squared_error(out, y_batches)\n",
    "    \n",
    "    gradientes = tape.gradient(erro, model.trainable_variables)\n",
    "    otimizador.apply_gradients(zip(gradientes, model.trainable_variables))\n",
    "\n",
    "    if epoca % 100 == 0:\n",
    "        print(epoca + 1, ' erro: ', tf.reduce_mean(erro).numpy())"
   ]
  },
  {
   "cell_type": "code",
   "execution_count": 149,
   "metadata": {
    "colab": {
     "base_uri": "https://localhost:8080/",
     "height": 521
    },
    "colab_type": "code",
    "executionInfo": {
     "elapsed": 131390,
     "status": "ok",
     "timestamp": 1599589259326,
     "user": {
      "displayName": "Denny Seccon",
      "photoUrl": "https://lh3.googleusercontent.com/a-/AOh14GgJKBMgIypXsiOd8ZOSskERpZBMuJN6csHlr9Wo=s64",
      "userId": "03904535882374894686"
     },
     "user_tz": 180
    },
    "id": "4ebRp4n3J6k8",
    "outputId": "2370e0a3-8309-4798-8bf2-05298c19d5b1"
   },
   "outputs": [
    {
     "data": {
      "text/plain": [
       "<tf.Tensor: shape=(1, 30, 1), dtype=float32, numpy=\n",
       "array([[[324.8365 ],\n",
       "        [313.227  ],\n",
       "        [330.08246],\n",
       "        [337.68506],\n",
       "        [285.64008],\n",
       "        [478.00098],\n",
       "        [591.7081 ],\n",
       "        [461.2955 ],\n",
       "        [364.56842],\n",
       "        [306.35358],\n",
       "        [313.33728],\n",
       "        [408.2506 ],\n",
       "        [365.54886],\n",
       "        [299.07025],\n",
       "        [323.3427 ],\n",
       "        [334.10468],\n",
       "        [292.3821 ],\n",
       "        [355.67914],\n",
       "        [288.6838 ],\n",
       "        [278.68457],\n",
       "        [368.70825],\n",
       "        [295.0486 ],\n",
       "        [300.02032],\n",
       "        [390.12006],\n",
       "        [278.5739 ],\n",
       "        [319.86627],\n",
       "        [385.38394],\n",
       "        [270.17258],\n",
       "        [342.4461 ],\n",
       "        [376.14117]]], dtype=float32)>"
      ]
     },
     "execution_count": 149,
     "metadata": {},
     "output_type": "execute_result"
    }
   ],
   "source": [
    "previsoes = model(X_teste)\n",
    "previsoes"
   ]
  },
  {
   "cell_type": "code",
   "execution_count": 150,
   "metadata": {
    "colab": {
     "base_uri": "https://localhost:8080/",
     "height": 33
    },
    "colab_type": "code",
    "executionInfo": {
     "elapsed": 131341,
     "status": "ok",
     "timestamp": 1599589259328,
     "user": {
      "displayName": "Denny Seccon",
      "photoUrl": "https://lh3.googleusercontent.com/a-/AOh14GgJKBMgIypXsiOd8ZOSskERpZBMuJN6csHlr9Wo=s64",
      "userId": "03904535882374894686"
     },
     "user_tz": 180
    },
    "id": "IifZ9i6FJ6lJ",
    "outputId": "c75c1e3b-1181-4d7e-a45b-a40900ff90bc"
   },
   "outputs": [
    {
     "data": {
      "text/plain": [
       "36.67254504394531"
      ]
     },
     "execution_count": 150,
     "metadata": {},
     "output_type": "execute_result"
    }
   ],
   "source": [
    "y_teste2 = np.ravel(y_teste)\n",
    "previsoes2 = np.ravel(previsoes.numpy())\n",
    "mae = mean_absolute_error(y_teste2, previsoes2)\n",
    "mae"
   ]
  },
  {
   "cell_type": "code",
   "execution_count": null,
   "metadata": {},
   "outputs": [],
   "source": [
    "plt.plot(y_teste2, label = 'Valor real')\n",
    "plt.plot(y_teste2, 'w*', markersize = 10, color = 'red')\n",
    "plt.plot(previsoes2, label = 'Previsões')\n",
    "plt.legend()"
   ]
  },
  {
   "cell_type": "code",
   "execution_count": 151,
   "metadata": {},
   "outputs": [
    {
     "name": "stdout",
     "output_type": "stream",
     "text": [
      "51.11976866810612\n"
     ]
    }
   ],
   "source": [
    "print(np.sqrt(\n",
    "        np.square(\n",
    "            np.subtract(y_teste2, previsoes2)).mean()))"
   ]
  }
 ],
 "metadata": {
  "colab": {
   "authorship_tag": "ABX9TyOxnY7HsNWf4hxii2VK8bRg",
   "collapsed_sections": [],
   "name": "1 serie_temporal_rede_recorrente.ipynb",
   "provenance": [],
   "toc_visible": true
  },
  "kernelspec": {
   "display_name": "Python 3",
   "language": "python",
   "name": "python3"
  },
  "language_info": {
   "codemirror_mode": {
    "name": "ipython",
    "version": 3
   },
   "file_extension": ".py",
   "mimetype": "text/x-python",
   "name": "python",
   "nbconvert_exporter": "python",
   "pygments_lexer": "ipython3",
   "version": "3.8.2"
  }
 },
 "nbformat": 4,
 "nbformat_minor": 1
}
