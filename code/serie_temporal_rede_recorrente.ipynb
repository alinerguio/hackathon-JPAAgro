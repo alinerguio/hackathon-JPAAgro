{
 "cells": [
  {
   "cell_type": "code",
   "execution_count": 1,
   "metadata": {
    "colab": {},
    "colab_type": "code",
    "executionInfo": {
     "elapsed": 1856,
     "status": "ok",
     "timestamp": 1599589129272,
     "user": {
      "displayName": "Denny Seccon",
      "photoUrl": "https://lh3.googleusercontent.com/a-/AOh14GgJKBMgIypXsiOd8ZOSskERpZBMuJN6csHlr9Wo=s64",
      "userId": "03904535882374894686"
     },
     "user_tz": 180
    },
    "id": "2zFQQOYVn0rC"
   },
   "outputs": [],
   "source": [
    "import pandas as pd\n",
    "base = pd.read_csv('../dataset/dataset_train.csv')\n",
    "base = base.dropna()"
   ]
  },
  {
   "cell_type": "code",
   "execution_count": 2,
   "metadata": {
    "colab": {
     "base_uri": "https://localhost:8080/",
     "height": 281
    },
    "colab_type": "code",
    "executionInfo": {
     "elapsed": 2822,
     "status": "ok",
     "timestamp": 1599589130294,
     "user": {
      "displayName": "Denny Seccon",
      "photoUrl": "https://lh3.googleusercontent.com/a-/AOh14GgJKBMgIypXsiOd8ZOSskERpZBMuJN6csHlr9Wo=s64",
      "userId": "03904535882374894686"
     },
     "user_tz": 180
    },
    "id": "4U_CP12CoBmu",
    "outputId": "a3bad56f-ad90-4948-e050-2fc2ae21b31f"
   },
   "outputs": [
    {
     "data": {
      "text/plain": [
       "[<matplotlib.lines.Line2D at 0x7ff19dce5d90>]"
      ]
     },
     "execution_count": 2,
     "metadata": {},
     "output_type": "execute_result"
    },
    {
     "data": {
      "image/png": "[encoded data removed]",
      "text/plain": [
       "<Figure size 432x288 with 1 Axes>"
      ]
     },
     "metadata": {
      "needs_background": "light"
     },
     "output_type": "display_data"
    }
   ],
   "source": [
    "base = base.iloc[:, 1].values\n",
    "import matplotlib.pyplot as plt\n",
    "plt.plot(base)"
   ]
  },
  {
   "cell_type": "code",
   "execution_count": 3,
   "metadata": {
    "colab": {},
    "colab_type": "code",
    "executionInfo": {
     "elapsed": 2805,
     "status": "ok",
     "timestamp": 1599589130299,
     "user": {
      "displayName": "Denny Seccon",
      "photoUrl": "https://lh3.googleusercontent.com/a-/AOh14GgJKBMgIypXsiOd8ZOSskERpZBMuJN6csHlr9Wo=s64",
      "userId": "03904535882374894686"
     },
     "user_tz": 180
    },
    "id": "21e3lO6boFEG"
   },
   "outputs": [],
   "source": [
    "periodos = 30\n",
    "previsao_futura = 1 # horizonte\n",
    "\n",
    "X = base[0:(len(base) - (len(base) % periodos))]\n",
    "X_batches = X.reshape(-1, periodos, 1)\n",
    "\n",
    "y = base[1:(len(base) - (len(base) % periodos)) + previsao_futura]\n",
    "y_batches = y.reshape(-1, periodos, 1)\n",
    "\n",
    "X_teste = base[-(periodos + previsao_futura):]\n",
    "X_teste = X_teste[:periodos]\n",
    "X_teste = X_teste.reshape(-1, periodos, 1)\n",
    "y_teste = base[-(periodos):]\n",
    "y_teste = y_teste.reshape(-1, periodos, 1)"
   ]
  },
  {
   "cell_type": "code",
   "execution_count": 4,
   "metadata": {
    "colab": {
     "base_uri": "https://localhost:8080/",
     "height": 33
    },
    "colab_type": "code",
    "executionInfo": {
     "elapsed": 2782,
     "status": "ok",
     "timestamp": 1599589130304,
     "user": {
      "displayName": "Denny Seccon",
      "photoUrl": "https://lh3.googleusercontent.com/a-/AOh14GgJKBMgIypXsiOd8ZOSskERpZBMuJN6csHlr9Wo=s64",
      "userId": "03904535882374894686"
     },
     "user_tz": 180
    },
    "id": "7q4j8NwkoO_c",
    "outputId": "f201714d-797f-42a5-b112-25e56e0f2cb4"
   },
   "outputs": [
    {
     "data": {
      "text/plain": [
       "((54, 30, 1), (54, 30, 1), (1, 30, 1), (1, 30, 1))"
      ]
     },
     "execution_count": 4,
     "metadata": {},
     "output_type": "execute_result"
    }
   ],
   "source": [
    "X_batches.shape, y_batches.shape, X_teste.shape, y_teste.shape"
   ]
  },
  {
   "cell_type": "code",
   "execution_count": 5,
   "metadata": {
    "colab": {
     "base_uri": "https://localhost:8080/",
     "height": 35
    },
    "colab_type": "code",
    "executionInfo": {
     "elapsed": 4568,
     "status": "ok",
     "timestamp": 1599589132131,
     "user": {
      "displayName": "Denny Seccon",
      "photoUrl": "https://lh3.googleusercontent.com/a-/AOh14GgJKBMgIypXsiOd8ZOSskERpZBMuJN6csHlr9Wo=s64",
      "userId": "03904535882374894686"
     },
     "user_tz": 180
    },
    "id": "VI6U9clZoWVP",
    "outputId": "3d6ab876-9c94-4196-87f5-8fc2da184619"
   },
   "outputs": [
    {
     "data": {
      "text/plain": [
       "'2.4.0'"
      ]
     },
     "execution_count": 5,
     "metadata": {},
     "output_type": "execute_result"
    }
   ],
   "source": [
    "import tensorflow as tf\n",
    "tf.random.set_seed(42)\n",
    "\n",
    "tf.__version__"
   ]
  },
  {
   "cell_type": "code",
   "execution_count": 6,
   "metadata": {
    "colab": {},
    "colab_type": "code",
    "executionInfo": {
     "elapsed": 4548,
     "status": "ok",
     "timestamp": 1599589132132,
     "user": {
      "displayName": "Denny Seccon",
      "photoUrl": "https://lh3.googleusercontent.com/a-/AOh14GgJKBMgIypXsiOd8ZOSskERpZBMuJN6csHlr9Wo=s64",
      "userId": "03904535882374894686"
     },
     "user_tz": 180
    },
    "id": "HUfOgNoSpzSU"
   },
   "outputs": [],
   "source": [
    "entradas = 1\n",
    "neuronios_oculta = 100\n",
    "neuronios_saida = 1"
   ]
  },
  {
   "cell_type": "markdown",
   "metadata": {
    "colab_type": "text",
    "id": "ytuE7-d8J0_u"
   },
   "source": [
    "# Usando RNN Simples"
   ]
  },
  {
   "cell_type": "code",
   "execution_count": 7,
   "metadata": {
    "colab": {},
    "colab_type": "code",
    "executionInfo": {
     "elapsed": 4515,
     "status": "ok",
     "timestamp": 1599589132134,
     "user": {
      "displayName": "Denny Seccon",
      "photoUrl": "https://lh3.googleusercontent.com/a-/AOh14GgJKBMgIypXsiOd8ZOSskERpZBMuJN6csHlr9Wo=s64",
      "userId": "03904535882374894686"
     },
     "user_tz": 180
    },
    "id": "B8RyfbiQp-u4"
   },
   "outputs": [],
   "source": [
    "class Model(tf.keras.Model):\n",
    "    def __init__(self):\n",
    "        super().__init__()\n",
    "        self.rnn = tf.keras.layers.SimpleRNN(units = neuronios_oculta, activation = 'relu', return_sequences = True)\n",
    "        self.dense = tf.keras.layers.Dense(units = neuronios_saida)\n",
    "    \n",
    "    def call(self, inputs):\n",
    "        x = self.rnn(inputs)\n",
    "        x = self.dense(x)\n",
    "\n",
    "        return x"
   ]
  },
  {
   "cell_type": "code",
   "execution_count": 8,
   "metadata": {
    "colab": {
     "base_uri": "https://localhost:8080/",
     "height": 297
    },
    "colab_type": "code",
    "executionInfo": {
     "elapsed": 50039,
     "status": "ok",
     "timestamp": 1599589177697,
     "user": {
      "displayName": "Denny Seccon",
      "photoUrl": "https://lh3.googleusercontent.com/a-/AOh14GgJKBMgIypXsiOd8ZOSskERpZBMuJN6csHlr9Wo=s64",
      "userId": "03904535882374894686"
     },
     "user_tz": 180
    },
    "id": "eAo_BqHtunEw",
    "outputId": "305f1eb8-3f99-40a0-b844-a26de58b7f1d"
   },
   "outputs": [
    {
     "name": "stdout",
     "output_type": "stream",
     "text": [
      "1  erro:  95786.68850591272\n",
      "101  erro:  7121.268640755876\n",
      "201  erro:  5427.644311281046\n",
      "301  erro:  4769.33321135283\n",
      "401  erro:  4464.744960336927\n",
      "501  erro:  4265.956895774465\n",
      "601  erro:  4062.4382000619566\n",
      "701  erro:  3826.7721237757555\n",
      "801  erro:  3653.679543395362\n",
      "901  erro:  3536.346611669457\n"
     ]
    }
   ],
   "source": [
    "model = Model()\n",
    "otimizador = tf.keras.optimizers.Adam(learning_rate = 0.001)\n",
    "\n",
    "for epoca in range(1000):\n",
    "    with tf.GradientTape() as tape:\n",
    "        out = model(X_batches)\n",
    "        erro = tf.keras.losses.mean_squared_error(out, y_batches)\n",
    "    \n",
    "    gradientes = tape.gradient(erro, model.trainable_variables)\n",
    "    otimizador.apply_gradients(zip(gradientes, model.trainable_variables))\n",
    "\n",
    "    if epoca % 100 == 0:\n",
    "        print(epoca + 1, ' erro: ', tf.reduce_mean(erro).numpy())"
   ]
  },
  {
   "cell_type": "code",
   "execution_count": 9,
   "metadata": {
    "colab": {
     "base_uri": "https://localhost:8080/",
     "height": 521
    },
    "colab_type": "code",
    "executionInfo": {
     "elapsed": 50017,
     "status": "ok",
     "timestamp": 1599589177703,
     "user": {
      "displayName": "Denny Seccon",
      "photoUrl": "https://lh3.googleusercontent.com/a-/AOh14GgJKBMgIypXsiOd8ZOSskERpZBMuJN6csHlr9Wo=s64",
      "userId": "03904535882374894686"
     },
     "user_tz": 180
    },
    "id": "aRFkzlrvv9Zg",
    "outputId": "3f5b1a77-4d96-46c0-c3da-970e399305d8"
   },
   "outputs": [
    {
     "data": {
      "text/plain": [
       "<tf.Tensor: shape=(1, 30, 1), dtype=float32, numpy=\n",
       "array([[[324.34222],\n",
       "        [312.0151 ],\n",
       "        [331.10403],\n",
       "        [334.02353],\n",
       "        [304.9767 ],\n",
       "        [445.21524],\n",
       "        [514.8937 ],\n",
       "        [525.9181 ],\n",
       "        [456.46597],\n",
       "        [313.76654],\n",
       "        [289.23108],\n",
       "        [312.90726],\n",
       "        [349.21478],\n",
       "        [334.54248],\n",
       "        [295.17813],\n",
       "        [306.87762],\n",
       "        [313.2232 ],\n",
       "        [310.9656 ],\n",
       "        [330.1302 ],\n",
       "        [321.03915],\n",
       "        [325.3845 ],\n",
       "        [327.16357],\n",
       "        [317.0845 ],\n",
       "        [343.93335],\n",
       "        [317.1873 ],\n",
       "        [315.47336],\n",
       "        [347.13898],\n",
       "        [324.92432],\n",
       "        [317.352  ],\n",
       "        [357.199  ]]], dtype=float32)>"
      ]
     },
     "execution_count": 9,
     "metadata": {},
     "output_type": "execute_result"
    }
   ],
   "source": [
    "previsoes = model(X_teste)\n",
    "previsoes"
   ]
  },
  {
   "cell_type": "code",
   "execution_count": 10,
   "metadata": {
    "colab": {},
    "colab_type": "code",
    "executionInfo": {
     "elapsed": 50006,
     "status": "ok",
     "timestamp": 1599589177712,
     "user": {
      "displayName": "Denny Seccon",
      "photoUrl": "https://lh3.googleusercontent.com/a-/AOh14GgJKBMgIypXsiOd8ZOSskERpZBMuJN6csHlr9Wo=s64",
      "userId": "03904535882374894686"
     },
     "user_tz": 180
    },
    "id": "TlTrN9hhyA2Q"
   },
   "outputs": [],
   "source": [
    "import numpy as np\n",
    "y_teste2 = np.ravel(y_teste)"
   ]
  },
  {
   "cell_type": "code",
   "execution_count": 11,
   "metadata": {
    "colab": {},
    "colab_type": "code",
    "executionInfo": {
     "elapsed": 49987,
     "status": "ok",
     "timestamp": 1599589177714,
     "user": {
      "displayName": "Denny Seccon",
      "photoUrl": "https://lh3.googleusercontent.com/a-/AOh14GgJKBMgIypXsiOd8ZOSskERpZBMuJN6csHlr9Wo=s64",
      "userId": "03904535882374894686"
     },
     "user_tz": 180
    },
    "id": "VZlrDI_4yhOb"
   },
   "outputs": [],
   "source": [
    "previsoes2 = np.ravel(previsoes.numpy())"
   ]
  },
  {
   "cell_type": "code",
   "execution_count": 12,
   "metadata": {
    "colab": {
     "base_uri": "https://localhost:8080/",
     "height": 33
    },
    "colab_type": "code",
    "executionInfo": {
     "elapsed": 49993,
     "status": "ok",
     "timestamp": 1599589177740,
     "user": {
      "displayName": "Denny Seccon",
      "photoUrl": "https://lh3.googleusercontent.com/a-/AOh14GgJKBMgIypXsiOd8ZOSskERpZBMuJN6csHlr9Wo=s64",
      "userId": "03904535882374894686"
     },
     "user_tz": 180
    },
    "id": "n2Y6SzTVykYD",
    "outputId": "9ebbedb5-2322-49c8-cb8f-6ad4de476223"
   },
   "outputs": [
    {
     "data": {
      "text/plain": [
       "31.15733312988281"
      ]
     },
     "execution_count": 12,
     "metadata": {},
     "output_type": "execute_result"
    }
   ],
   "source": [
    "from sklearn.metrics import mean_absolute_error\n",
    "mae = mean_absolute_error(y_teste2, previsoes2)\n",
    "mae"
   ]
  },
  {
   "cell_type": "code",
   "execution_count": 13,
   "metadata": {
    "colab": {
     "base_uri": "https://localhost:8080/",
     "height": 281
    },
    "colab_type": "code",
    "executionInfo": {
     "elapsed": 49964,
     "status": "ok",
     "timestamp": 1599589177741,
     "user": {
      "displayName": "Denny Seccon",
      "photoUrl": "https://lh3.googleusercontent.com/a-/AOh14GgJKBMgIypXsiOd8ZOSskERpZBMuJN6csHlr9Wo=s64",
      "userId": "03904535882374894686"
     },
     "user_tz": 180
    },
    "id": "1yIsMhFeyuPB",
    "outputId": "868485ec-5c07-45bf-92fc-a994674f3ba3"
   },
   "outputs": [
    {
     "data": {
      "text/plain": [
       "<matplotlib.legend.Legend at 0x7ff1a494a040>"
      ]
     },
     "execution_count": 13,
     "metadata": {},
     "output_type": "execute_result"
    },
    {
     "data": {
      "image/png": "[encoded data removed]",
      "text/plain": [
       "<Figure size 432x288 with 1 Axes>"
      ]
     },
     "metadata": {
      "needs_background": "light"
     },
     "output_type": "display_data"
    }
   ],
   "source": [
    "plt.plot(y_teste2, '*', markersize = 10, label = 'Valor real')\n",
    "plt.plot(previsoes2, 'o', label = 'Previsões')\n",
    "plt.legend()"
   ]
  },
  {
   "cell_type": "code",
   "execution_count": 14,
   "metadata": {
    "colab": {
     "base_uri": "https://localhost:8080/",
     "height": 281
    },
    "colab_type": "code",
    "executionInfo": {
     "elapsed": 50425,
     "status": "ok",
     "timestamp": 1599589178233,
     "user": {
      "displayName": "Denny Seccon",
      "photoUrl": "https://lh3.googleusercontent.com/a-/AOh14GgJKBMgIypXsiOd8ZOSskERpZBMuJN6csHlr9Wo=s64",
      "userId": "03904535882374894686"
     },
     "user_tz": 180
    },
    "id": "2yevGjKCy4WW",
    "outputId": "7ad1b291-b200-4041-8d07-ed4f0ff6498f"
   },
   "outputs": [
    {
     "data": {
      "text/plain": [
       "<matplotlib.legend.Legend at 0x7ff1a4a08250>"
      ]
     },
     "execution_count": 14,
     "metadata": {},
     "output_type": "execute_result"
    },
    {
     "data": {
      "image/png": "[encoded data removed]",
      "text/plain": [
       "<Figure size 432x288 with 1 Axes>"
      ]
     },
     "metadata": {
      "needs_background": "light"
     },
     "output_type": "display_data"
    }
   ],
   "source": [
    "plt.plot(y_teste2, label = 'Valor real')\n",
    "plt.plot(y_teste2, 'w*', markersize = 10, color = 'red')\n",
    "plt.plot(previsoes2, label = 'Previsões')\n",
    "plt.legend()"
   ]
  },
  {
   "cell_type": "markdown",
   "metadata": {
    "colab_type": "text",
    "id": "l_MlsqQtJ7SH"
   },
   "source": [
    "# Usando LSTM"
   ]
  },
  {
   "cell_type": "code",
   "execution_count": 15,
   "metadata": {
    "colab": {},
    "colab_type": "code",
    "executionInfo": {
     "elapsed": 50368,
     "status": "ok",
     "timestamp": 1599589178234,
     "user": {
      "displayName": "Denny Seccon",
      "photoUrl": "https://lh3.googleusercontent.com/a-/AOh14GgJKBMgIypXsiOd8ZOSskERpZBMuJN6csHlr9Wo=s64",
      "userId": "03904535882374894686"
     },
     "user_tz": 180
    },
    "id": "TWk3o7kbJ6kq"
   },
   "outputs": [],
   "source": [
    "class Model(tf.keras.Model):\n",
    "    def __init__(self):\n",
    "        super().__init__()\n",
    "        self.lstm = tf.keras.layers.LSTM(units = neuronios_oculta, activation = 'relu', return_sequences = True)\n",
    "        self.dense = tf.keras.layers.Dense(units = neuronios_saida)\n",
    "    \n",
    "    def call(self, inputs):\n",
    "        x = self.lstm(inputs)\n",
    "        x = self.dense(x)\n",
    "\n",
    "        return x"
   ]
  },
  {
   "cell_type": "code",
   "execution_count": 17,
   "metadata": {
    "colab": {
     "base_uri": "https://localhost:8080/",
     "height": 297
    },
    "colab_type": "code",
    "executionInfo": {
     "elapsed": 131420,
     "status": "ok",
     "timestamp": 1599589259310,
     "user": {
      "displayName": "Denny Seccon",
      "photoUrl": "https://lh3.googleusercontent.com/a-/AOh14GgJKBMgIypXsiOd8ZOSskERpZBMuJN6csHlr9Wo=s64",
      "userId": "03904535882374894686"
     },
     "user_tz": 180
    },
    "id": "qubhgGx8J6k0",
    "outputId": "3f770af7-48a8-4b6b-db8f-63b05b77308f"
   },
   "outputs": [
    {
     "name": "stdout",
     "output_type": "stream",
     "text": [
      "1  erro:  134481.5168376294\n",
      "101  erro:  33263.47653326132\n",
      "201  erro:  22934.347095086836\n",
      "301  erro:  18330.84141426212\n",
      "401  erro:  15765.6570954014\n",
      "501  erro:  13963.65296782234\n",
      "601  erro:  12279.722872306287\n",
      "701  erro:  11149.952911012238\n",
      "801  erro:  10316.763988796189\n",
      "901  erro:  2185521.5208969\n"
     ]
    }
   ],
   "source": [
    "model = Model()\n",
    "otimizador = tf.keras.optimizers.Adam(learning_rate = 0.001)\n",
    "\n",
    "for epoca in range(1000):\n",
    "    with tf.GradientTape() as tape:\n",
    "        out = model(X_batches)\n",
    "        erro = tf.keras.losses.mean_squared_error(out, y_batches)\n",
    "    \n",
    "    gradientes = tape.gradient(erro, model.trainable_variables)\n",
    "    otimizador.apply_gradients(zip(gradientes, model.trainable_variables))\n",
    "\n",
    "    if epoca % 100 == 0:\n",
    "        print(epoca + 1, ' erro: ', tf.reduce_mean(erro).numpy())"
   ]
  },
  {
   "cell_type": "code",
   "execution_count": 18,
   "metadata": {
    "colab": {
     "base_uri": "https://localhost:8080/",
     "height": 521
    },
    "colab_type": "code",
    "executionInfo": {
     "elapsed": 131390,
     "status": "ok",
     "timestamp": 1599589259326,
     "user": {
      "displayName": "Denny Seccon",
      "photoUrl": "https://lh3.googleusercontent.com/a-/AOh14GgJKBMgIypXsiOd8ZOSskERpZBMuJN6csHlr9Wo=s64",
      "userId": "03904535882374894686"
     },
     "user_tz": 180
    },
    "id": "4ebRp4n3J6k8",
    "outputId": "2370e0a3-8309-4798-8bf2-05298c19d5b1"
   },
   "outputs": [
    {
     "data": {
      "text/plain": [
       "<tf.Tensor: shape=(1, 30, 1), dtype=float32, numpy=\n",
       "array([[[ 118.44422 ],\n",
       "        [ 201.64972 ],\n",
       "        [ 246.80534 ],\n",
       "        [ 307.9196  ],\n",
       "        [ 253.70854 ],\n",
       "        [ 317.7877  ],\n",
       "        [ 368.92917 ],\n",
       "        [ 437.91534 ],\n",
       "        [ 628.94073 ],\n",
       "        [ 696.7604  ],\n",
       "        [ 774.8124  ],\n",
       "        [ 515.1582  ],\n",
       "        [ 698.3801  ],\n",
       "        [ 431.1839  ],\n",
       "        [ 330.19403 ],\n",
       "        [ 177.56776 ],\n",
       "        [ 126.33466 ],\n",
       "        [  32.084484],\n",
       "        [ -86.36486 ],\n",
       "        [ 680.7166  ],\n",
       "        [ 381.52405 ],\n",
       "        [ 227.52528 ],\n",
       "        [ 224.18446 ],\n",
       "        [ 289.97424 ],\n",
       "        [ 330.43713 ],\n",
       "        [ 355.15125 ],\n",
       "        [ 361.4818  ],\n",
       "        [ 346.48718 ],\n",
       "        [ 323.53552 ],\n",
       "        [-229.34386 ]]], dtype=float32)>"
      ]
     },
     "execution_count": 18,
     "metadata": {},
     "output_type": "execute_result"
    }
   ],
   "source": [
    "previsoes = model(X_teste)\n",
    "previsoes"
   ]
  },
  {
   "cell_type": "code",
   "execution_count": 19,
   "metadata": {
    "colab": {
     "base_uri": "https://localhost:8080/",
     "height": 33
    },
    "colab_type": "code",
    "executionInfo": {
     "elapsed": 131341,
     "status": "ok",
     "timestamp": 1599589259328,
     "user": {
      "displayName": "Denny Seccon",
      "photoUrl": "https://lh3.googleusercontent.com/a-/AOh14GgJKBMgIypXsiOd8ZOSskERpZBMuJN6csHlr9Wo=s64",
      "userId": "03904535882374894686"
     },
     "user_tz": 180
    },
    "id": "IifZ9i6FJ6lJ",
    "outputId": "c75c1e3b-1181-4d7e-a45b-a40900ff90bc"
   },
   "outputs": [
    {
     "data": {
      "text/plain": [
       "179.0010153757731"
      ]
     },
     "execution_count": 19,
     "metadata": {},
     "output_type": "execute_result"
    }
   ],
   "source": [
    "y_teste2 = np.ravel(y_teste)\n",
    "previsoes2 = np.ravel(previsoes.numpy())\n",
    "mae = mean_absolute_error(y_teste2, previsoes2)\n",
    "mae"
   ]
  },
  {
   "cell_type": "markdown",
   "metadata": {
    "colab_type": "text",
    "id": "Rpyz03WQLNBY"
   },
   "source": [
    "# Múltiplas camadas LSTM\n",
    "\n",
    "O construtor para empilhar células com estrutura de RNN deve ser `tf.keras.layers.StackedRNNCells`, que depois deve ser consolidada em uma camada usando o construtor `tf.keras.layers.RNN`, conforme exemplo em https://www.tensorflow.org/api_docs/python/tf/keras/layers/StackedRNNCells#examples"
   ]
  },
  {
   "cell_type": "code",
   "execution_count": 20,
   "metadata": {
    "colab": {},
    "colab_type": "code",
    "executionInfo": {
     "elapsed": 131323,
     "status": "ok",
     "timestamp": 1599589259329,
     "user": {
      "displayName": "Denny Seccon",
      "photoUrl": "https://lh3.googleusercontent.com/a-/AOh14GgJKBMgIypXsiOd8ZOSskERpZBMuJN6csHlr9Wo=s64",
      "userId": "03904535882374894686"
     },
     "user_tz": 180
    },
    "id": "tfImuHB0LLzN"
   },
   "outputs": [],
   "source": [
    "class Model(tf.keras.Model):\n",
    "    def __init__(self):\n",
    "        super().__init__()\n",
    "        lstms = [tf.keras.layers.LSTMCell(units = neuronios_oculta, activation = 'relu') for _ in range(4)]\n",
    "        stacked_lstm = tf.keras.layers.StackedRNNCells(cells = lstms)\n",
    "        self.lstm_layer = tf.keras.layers.RNN(cell = stacked_lstm, return_sequences = True)\n",
    "        self.dense = tf.keras.layers.Dense(units = neuronios_saida)\n",
    "    \n",
    "    def call(self, inputs):\n",
    "        x = self.lstm_layer(inputs)\n",
    "        x = self.dense(x)\n",
    "\n",
    "        return x"
   ]
  },
  {
   "cell_type": "code",
   "execution_count": 22,
   "metadata": {
    "colab": {
     "base_uri": "https://localhost:8080/",
     "height": 297
    },
    "colab_type": "code",
    "executionInfo": {
     "elapsed": 476971,
     "status": "ok",
     "timestamp": 1599589605007,
     "user": {
      "displayName": "Denny Seccon",
      "photoUrl": "https://lh3.googleusercontent.com/a-/AOh14GgJKBMgIypXsiOd8ZOSskERpZBMuJN6csHlr9Wo=s64",
      "userId": "03904535882374894686"
     },
     "user_tz": 180
    },
    "id": "ZV1RpxdiLLzR",
    "outputId": "31313b52-ba03-408d-dd12-25740bc7e422"
   },
   "outputs": [
    {
     "name": "stdout",
     "output_type": "stream",
     "text": [
      "1  erro:  152055.5560928092\n",
      "101  erro:  295129.52800579194\n",
      "201  erro:  256868.34905078946\n",
      "301  erro:  101892.224156464\n",
      "401  erro:  85232.06137499803\n",
      "501  erro:  56765.44986439875\n",
      "601  erro:  48851.837506940254\n",
      "701  erro:  45361.35035529295\n",
      "801  erro:  42276.08177673545\n",
      "901  erro:  39342.3225562051\n"
     ]
    }
   ],
   "source": [
    "model = Model()\n",
    "otimizador = tf.keras.optimizers.Adam(learning_rate = 0.001)\n",
    "\n",
    "for epoca in range(1000):\n",
    "    with tf.GradientTape() as tape:\n",
    "        out = model(X_batches)\n",
    "        erro = tf.keras.losses.mean_squared_error(out, y_batches)\n",
    "    \n",
    "    gradientes = tape.gradient(erro, model.trainable_variables)\n",
    "    otimizador.apply_gradients(zip(gradientes, model.trainable_variables))\n",
    "\n",
    "    if epoca % 100 == 0:\n",
    "        print(epoca + 1, ' erro: ', tf.reduce_mean(erro).numpy())"
   ]
  },
  {
   "cell_type": "code",
   "execution_count": 23,
   "metadata": {
    "colab": {
     "base_uri": "https://localhost:8080/",
     "height": 521
    },
    "colab_type": "code",
    "executionInfo": {
     "elapsed": 476968,
     "status": "ok",
     "timestamp": 1599589605023,
     "user": {
      "displayName": "Denny Seccon",
      "photoUrl": "https://lh3.googleusercontent.com/a-/AOh14GgJKBMgIypXsiOd8ZOSskERpZBMuJN6csHlr9Wo=s64",
      "userId": "03904535882374894686"
     },
     "user_tz": 180
    },
    "id": "a189PyWELLzU",
    "outputId": "49f3b833-4f2f-4282-d436-3631a9c332d5"
   },
   "outputs": [
    {
     "data": {
      "text/plain": [
       "<tf.Tensor: shape=(1, 30, 1), dtype=float32, numpy=\n",
       "array([[[  1.446893 ],\n",
       "        [  6.2060995],\n",
       "        [ 18.457214 ],\n",
       "        [ 43.681637 ],\n",
       "        [ 86.83233  ],\n",
       "        [171.53879  ],\n",
       "        [327.75235  ],\n",
       "        [372.27393  ],\n",
       "        [490.0091   ],\n",
       "        [334.0553   ],\n",
       "        [298.6773   ],\n",
       "        [282.51382  ],\n",
       "        [305.78986  ],\n",
       "        [323.59402  ],\n",
       "        [354.22556  ],\n",
       "        [401.7959   ],\n",
       "        [343.3736   ],\n",
       "        [221.7705   ],\n",
       "        [309.18375  ],\n",
       "        [333.68802  ],\n",
       "        [321.89053  ],\n",
       "        [329.2971   ],\n",
       "        [293.66785  ],\n",
       "        [429.26385  ],\n",
       "        [283.22623  ],\n",
       "        [350.64972  ],\n",
       "        [310.2443   ],\n",
       "        [423.87073  ],\n",
       "        [407.5404   ],\n",
       "        [379.20126  ]]], dtype=float32)>"
      ]
     },
     "execution_count": 23,
     "metadata": {},
     "output_type": "execute_result"
    }
   ],
   "source": [
    "previsoes = model(X_teste)\n",
    "previsoes"
   ]
  },
  {
   "cell_type": "code",
   "execution_count": 24,
   "metadata": {
    "colab": {
     "base_uri": "https://localhost:8080/",
     "height": 33
    },
    "colab_type": "code",
    "executionInfo": {
     "elapsed": 476767,
     "status": "ok",
     "timestamp": 1599589605028,
     "user": {
      "displayName": "Denny Seccon",
      "photoUrl": "https://lh3.googleusercontent.com/a-/AOh14GgJKBMgIypXsiOd8ZOSskERpZBMuJN6csHlr9Wo=s64",
      "userId": "03904535882374894686"
     },
     "user_tz": 180
    },
    "id": "nBhXqs6nLLzg",
    "outputId": "51cb4ffe-0bd4-4b42-b9d5-ed9aca433edc"
   },
   "outputs": [
    {
     "data": {
      "text/plain": [
       "115.12174163532258"
      ]
     },
     "execution_count": 24,
     "metadata": {},
     "output_type": "execute_result"
    }
   ],
   "source": [
    "y_teste2 = np.ravel(y_teste)\n",
    "previsoes2 = np.ravel(previsoes.numpy())\n",
    "mae = mean_absolute_error(y_teste2, previsoes2)\n",
    "mae"
   ]
  },
  {
   "cell_type": "markdown",
   "metadata": {
    "colab_type": "text",
    "id": "QxOsCNuOSQBu"
   },
   "source": [
    "# Com dropout"
   ]
  },
  {
   "cell_type": "code",
   "execution_count": 25,
   "metadata": {
    "colab": {},
    "colab_type": "code",
    "executionInfo": {
     "elapsed": 476737,
     "status": "ok",
     "timestamp": 1599589605031,
     "user": {
      "displayName": "Denny Seccon",
      "photoUrl": "https://lh3.googleusercontent.com/a-/AOh14GgJKBMgIypXsiOd8ZOSskERpZBMuJN6csHlr9Wo=s64",
      "userId": "03904535882374894686"
     },
     "user_tz": 180
    },
    "id": "hLUEyv7sSVrY"
   },
   "outputs": [],
   "source": [
    "class Model(tf.keras.Model):\n",
    "    def __init__(self):\n",
    "        super().__init__()\n",
    "        lstms = [tf.keras.layers.LSTMCell(units = neuronios_oculta, activation = 'relu') for _ in range(4)]\n",
    "        stacked_lstm = tf.keras.layers.StackedRNNCells(cells = lstms)\n",
    "        self.lstm_layer = tf.keras.layers.RNN(cell = stacked_lstm, return_sequences = True)\n",
    "        self.dropout = tf.keras.layers.Dropout(rate = 0.1)\n",
    "        self.dense = tf.keras.layers.Dense(units = neuronios_saida)\n",
    "    \n",
    "    def call(self, inputs):\n",
    "        x = self.lstm_layer(inputs)\n",
    "        x = self.dropout(x)\n",
    "        x = self.dense(x)\n",
    "\n",
    "        return x"
   ]
  },
  {
   "cell_type": "code",
   "execution_count": null,
   "metadata": {
    "colab": {
     "base_uri": "https://localhost:8080/",
     "height": 297
    },
    "colab_type": "code",
    "executionInfo": {
     "elapsed": 820825,
     "status": "ok",
     "timestamp": 1599589949143,
     "user": {
      "displayName": "Denny Seccon",
      "photoUrl": "https://lh3.googleusercontent.com/a-/AOh14GgJKBMgIypXsiOd8ZOSskERpZBMuJN6csHlr9Wo=s64",
      "userId": "03904535882374894686"
     },
     "user_tz": 180
    },
    "id": "A2T_kIx4SVrf",
    "outputId": "15565d28-affb-49cd-c238-e9899df39e9d"
   },
   "outputs": [
    {
     "name": "stdout",
     "output_type": "stream",
     "text": [
      "1  erro:  171907.79549189465\n",
      "101  erro:  nan\n",
      "201  erro:  nan\n",
      "301  erro:  nan\n",
      "401  erro:  nan\n",
      "501  erro:  nan\n",
      "601  erro:  nan\n",
      "701  erro:  nan\n",
      "801  erro:  nan\n"
     ]
    }
   ],
   "source": [
    "model = Model()\n",
    "otimizador = tf.keras.optimizers.Adam(learning_rate = 0.001)\n",
    "\n",
    "for epoca in range(1000):\n",
    "    with tf.GradientTape() as tape:\n",
    "        out = model(X_batches)\n",
    "        erro = tf.keras.losses.mean_squared_error(out, y_batches)\n",
    "    \n",
    "    gradientes = tape.gradient(erro, model.trainable_variables)\n",
    "    otimizador.apply_gradients(zip(gradientes, model.trainable_variables))\n",
    "\n",
    "    if epoca % 100 == 0:\n",
    "        print(epoca + 1, ' erro: ', tf.reduce_mean(erro).numpy())"
   ]
  },
  {
   "cell_type": "code",
   "execution_count": 25,
   "metadata": {
    "colab": {
     "base_uri": "https://localhost:8080/",
     "height": 521
    },
    "colab_type": "code",
    "executionInfo": {
     "elapsed": 820791,
     "status": "ok",
     "timestamp": 1599589949148,
     "user": {
      "displayName": "Denny Seccon",
      "photoUrl": "https://lh3.googleusercontent.com/a-/AOh14GgJKBMgIypXsiOd8ZOSskERpZBMuJN6csHlr9Wo=s64",
      "userId": "03904535882374894686"
     },
     "user_tz": 180
    },
    "id": "ZNBP6EA6SVrk",
    "outputId": "7ca31837-60a0-4a65-d149-529a821b1b93"
   },
   "outputs": [
    {
     "data": {
      "text/plain": [
       "<tf.Tensor: shape=(1, 30, 1), dtype=float32, numpy=\n",
       "array([[[15.181871 ],\n",
       "        [15.711775 ],\n",
       "        [15.232873 ],\n",
       "        [15.356727 ],\n",
       "        [15.2214775],\n",
       "        [15.217579 ],\n",
       "        [15.231234 ],\n",
       "        [15.133102 ],\n",
       "        [15.3503   ],\n",
       "        [15.556724 ],\n",
       "        [15.72226  ],\n",
       "        [15.724763 ],\n",
       "        [15.91631  ],\n",
       "        [16.041918 ],\n",
       "        [16.023273 ],\n",
       "        [16.440226 ],\n",
       "        [16.685778 ],\n",
       "        [16.788527 ],\n",
       "        [16.681759 ],\n",
       "        [17.07559  ],\n",
       "        [16.665295 ],\n",
       "        [17.420763 ],\n",
       "        [16.687757 ],\n",
       "        [17.861105 ],\n",
       "        [16.618387 ],\n",
       "        [17.55171  ],\n",
       "        [16.766592 ],\n",
       "        [18.803743 ],\n",
       "        [17.391253 ],\n",
       "        [17.757595 ]]], dtype=float32)>"
      ]
     },
     "execution_count": 25,
     "metadata": {
      "tags": []
     },
     "output_type": "execute_result"
    }
   ],
   "source": [
    "previsoes = model(X_teste)\n",
    "previsoes"
   ]
  },
  {
   "cell_type": "code",
   "execution_count": 26,
   "metadata": {
    "colab": {
     "base_uri": "https://localhost:8080/",
     "height": 33
    },
    "colab_type": "code",
    "executionInfo": {
     "elapsed": 820731,
     "status": "ok",
     "timestamp": 1599589949154,
     "user": {
      "displayName": "Denny Seccon",
      "photoUrl": "https://lh3.googleusercontent.com/a-/AOh14GgJKBMgIypXsiOd8ZOSskERpZBMuJN6csHlr9Wo=s64",
      "userId": "03904535882374894686"
     },
     "user_tz": 180
    },
    "id": "jateuY7_SVro",
    "outputId": "7fc5b522-9d1d-4b68-f8ff-126fb4e8fcf9"
   },
   "outputs": [
    {
     "data": {
      "text/plain": [
       "0.4247350924357098"
      ]
     },
     "execution_count": 26,
     "metadata": {
      "tags": []
     },
     "output_type": "execute_result"
    }
   ],
   "source": [
    "y_teste2 = np.ravel(y_teste)\n",
    "previsoes2 = np.ravel(previsoes.numpy())\n",
    "mae = mean_absolute_error(y_teste2, previsoes2)\n",
    "mae"
   ]
  },
  {
   "cell_type": "code",
   "execution_count": 27,
   "metadata": {
    "colab": {
     "base_uri": "https://localhost:8080/",
     "height": 281
    },
    "colab_type": "code",
    "executionInfo": {
     "elapsed": 821544,
     "status": "ok",
     "timestamp": 1599589949993,
     "user": {
      "displayName": "Denny Seccon",
      "photoUrl": "https://lh3.googleusercontent.com/a-/AOh14GgJKBMgIypXsiOd8ZOSskERpZBMuJN6csHlr9Wo=s64",
      "userId": "03904535882374894686"
     },
     "user_tz": 180
    },
    "id": "bMjZQZPITJ2i",
    "outputId": "63c0d345-c39a-40b9-fc13-9d1383f8a75c"
   },
   "outputs": [
    {
     "data": {
      "text/plain": [
       "<matplotlib.legend.Legend at 0x7f2c7dc39a20>"
      ]
     },
     "execution_count": 27,
     "metadata": {
      "tags": []
     },
     "output_type": "execute_result"
    },
    {
     "data": {
      "image/png": "[encoded data removed]",
      "text/plain": [
       "<Figure size 432x288 with 1 Axes>"
      ]
     },
     "metadata": {
      "needs_background": "light",
      "tags": []
     },
     "output_type": "display_data"
    }
   ],
   "source": [
    "plt.plot(y_teste2, '*', markersize = 10, label = 'Valor real')\n",
    "plt.plot(previsoes2, 'o', label = 'Previsões')\n",
    "plt.legend()"
   ]
  }
 ],
 "metadata": {
  "colab": {
   "authorship_tag": "ABX9TyOxnY7HsNWf4hxii2VK8bRg",
   "collapsed_sections": [],
   "name": "1 serie_temporal_rede_recorrente.ipynb",
   "provenance": [],
   "toc_visible": true
  },
  "kernelspec": {
   "display_name": "Python 3",
   "language": "python",
   "name": "python3"
  },
  "language_info": {
   "codemirror_mode": {
    "name": "ipython",
    "version": 3
   },
   "file_extension": ".py",
   "mimetype": "text/x-python",
   "name": "python",
   "nbconvert_exporter": "python",
   "pygments_lexer": "ipython3",
   "version": "3.8.2"
  }
 },
 "nbformat": 4,
 "nbformat_minor": 1
}
