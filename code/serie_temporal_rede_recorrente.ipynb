{
 "cells": [
  {
   "cell_type": "code",
   "execution_count": 1,
   "metadata": {
    "colab": {},
    "colab_type": "code",
    "executionInfo": {
     "elapsed": 1856,
     "status": "ok",
     "timestamp": 1599589129272,
     "user": {
      "displayName": "Denny Seccon",
      "photoUrl": "https://lh3.googleusercontent.com/a-/AOh14GgJKBMgIypXsiOd8ZOSskERpZBMuJN6csHlr9Wo=s64",
      "userId": "03904535882374894686"
     },
     "user_tz": 180
    },
    "id": "2zFQQOYVn0rC"
   },
   "outputs": [],
   "source": [
    "import pandas as pd\n",
    "base = pd.read_csv('../dataset/dataset_train_processed.csv')\n",
    "# base = base.dropna()"
   ]
  },
  {
   "cell_type": "code",
   "execution_count": 2,
   "metadata": {},
   "outputs": [
    {
     "data": {
      "text/html": [
       "<div>\n",
       "<style scoped>\n",
       "    .dataframe tbody tr th:only-of-type {\n",
       "        vertical-align: middle;\n",
       "    }\n",
       "\n",
       "    .dataframe tbody tr th {\n",
       "        vertical-align: top;\n",
       "    }\n",
       "\n",
       "    .dataframe thead th {\n",
       "        text-align: right;\n",
       "    }\n",
       "</style>\n",
       "<table border=\"1\" class=\"dataframe\">\n",
       "  <thead>\n",
       "    <tr style=\"text-align: right;\">\n",
       "      <th></th>\n",
       "      <th>negotiation_date</th>\n",
       "      <th>sold_price</th>\n",
       "      <th>product</th>\n",
       "      <th>day</th>\n",
       "      <th>month</th>\n",
       "      <th>year</th>\n",
       "    </tr>\n",
       "  </thead>\n",
       "  <tbody>\n",
       "    <tr>\n",
       "      <th>0</th>\n",
       "      <td>2014-01-01</td>\n",
       "      <td>0.00</td>\n",
       "      <td>NaN</td>\n",
       "      <td>1</td>\n",
       "      <td>1</td>\n",
       "      <td>2014</td>\n",
       "    </tr>\n",
       "    <tr>\n",
       "      <th>1</th>\n",
       "      <td>2014-01-03</td>\n",
       "      <td>0.00</td>\n",
       "      <td>NaN</td>\n",
       "      <td>3</td>\n",
       "      <td>1</td>\n",
       "      <td>2014</td>\n",
       "    </tr>\n",
       "    <tr>\n",
       "      <th>2</th>\n",
       "      <td>2014-01-04</td>\n",
       "      <td>0.00</td>\n",
       "      <td>NaN</td>\n",
       "      <td>4</td>\n",
       "      <td>1</td>\n",
       "      <td>2014</td>\n",
       "    </tr>\n",
       "    <tr>\n",
       "      <th>3</th>\n",
       "      <td>2014-01-05</td>\n",
       "      <td>0.00</td>\n",
       "      <td>NaN</td>\n",
       "      <td>5</td>\n",
       "      <td>1</td>\n",
       "      <td>2014</td>\n",
       "    </tr>\n",
       "    <tr>\n",
       "      <th>4</th>\n",
       "      <td>2014-01-06</td>\n",
       "      <td>0.00</td>\n",
       "      <td>NaN</td>\n",
       "      <td>6</td>\n",
       "      <td>1</td>\n",
       "      <td>2014</td>\n",
       "    </tr>\n",
       "    <tr>\n",
       "      <th>...</th>\n",
       "      <td>...</td>\n",
       "      <td>...</td>\n",
       "      <td>...</td>\n",
       "      <td>...</td>\n",
       "      <td>...</td>\n",
       "      <td>...</td>\n",
       "    </tr>\n",
       "    <tr>\n",
       "      <th>2006</th>\n",
       "      <td>2019-30-05</td>\n",
       "      <td>353.33</td>\n",
       "      <td>Polpa Cítrica</td>\n",
       "      <td>30</td>\n",
       "      <td>5</td>\n",
       "      <td>2019</td>\n",
       "    </tr>\n",
       "    <tr>\n",
       "      <th>2007</th>\n",
       "      <td>2019-30-06</td>\n",
       "      <td>316.67</td>\n",
       "      <td>Polpa Cítrica</td>\n",
       "      <td>30</td>\n",
       "      <td>6</td>\n",
       "      <td>2019</td>\n",
       "    </tr>\n",
       "    <tr>\n",
       "      <th>2008</th>\n",
       "      <td>2019-30-07</td>\n",
       "      <td>350.00</td>\n",
       "      <td>Polpa Cítrica</td>\n",
       "      <td>30</td>\n",
       "      <td>7</td>\n",
       "      <td>2019</td>\n",
       "    </tr>\n",
       "    <tr>\n",
       "      <th>2009</th>\n",
       "      <td>2019-31-05</td>\n",
       "      <td>331.42</td>\n",
       "      <td>Polpa Cítrica</td>\n",
       "      <td>31</td>\n",
       "      <td>5</td>\n",
       "      <td>2019</td>\n",
       "    </tr>\n",
       "    <tr>\n",
       "      <th>2010</th>\n",
       "      <td>2019-31-07</td>\n",
       "      <td>315.00</td>\n",
       "      <td>Polpa Cítrica</td>\n",
       "      <td>31</td>\n",
       "      <td>7</td>\n",
       "      <td>2019</td>\n",
       "    </tr>\n",
       "  </tbody>\n",
       "</table>\n",
       "<p>2011 rows × 6 columns</p>\n",
       "</div>"
      ],
      "text/plain": [
       "     negotiation_date  sold_price        product  day  month  year\n",
       "0          2014-01-01        0.00            NaN    1      1  2014\n",
       "1          2014-01-03        0.00            NaN    3      1  2014\n",
       "2          2014-01-04        0.00            NaN    4      1  2014\n",
       "3          2014-01-05        0.00            NaN    5      1  2014\n",
       "4          2014-01-06        0.00            NaN    6      1  2014\n",
       "...               ...         ...            ...  ...    ...   ...\n",
       "2006       2019-30-05      353.33  Polpa Cítrica   30      5  2019\n",
       "2007       2019-30-06      316.67  Polpa Cítrica   30      6  2019\n",
       "2008       2019-30-07      350.00  Polpa Cítrica   30      7  2019\n",
       "2009       2019-31-05      331.42  Polpa Cítrica   31      5  2019\n",
       "2010       2019-31-07      315.00  Polpa Cítrica   31      7  2019\n",
       "\n",
       "[2011 rows x 6 columns]"
      ]
     },
     "execution_count": 2,
     "metadata": {},
     "output_type": "execute_result"
    }
   ],
   "source": [
    "base"
   ]
  },
  {
   "cell_type": "code",
   "execution_count": 3,
   "metadata": {},
   "outputs": [],
   "source": [
    "from sklearn.preprocessing import MinMaxScaler\n",
    "scaler_price = MinMaxScaler()\n",
    "base[['sold_price']] = scaler_price.fit_transform(base[['sold_price']])"
   ]
  },
  {
   "cell_type": "code",
   "execution_count": 4,
   "metadata": {},
   "outputs": [
    {
     "data": {
      "text/html": [
       "<div>\n",
       "<style scoped>\n",
       "    .dataframe tbody tr th:only-of-type {\n",
       "        vertical-align: middle;\n",
       "    }\n",
       "\n",
       "    .dataframe tbody tr th {\n",
       "        vertical-align: top;\n",
       "    }\n",
       "\n",
       "    .dataframe thead th {\n",
       "        text-align: right;\n",
       "    }\n",
       "</style>\n",
       "<table border=\"1\" class=\"dataframe\">\n",
       "  <thead>\n",
       "    <tr style=\"text-align: right;\">\n",
       "      <th></th>\n",
       "      <th>negotiation_date</th>\n",
       "      <th>sold_price</th>\n",
       "      <th>product</th>\n",
       "      <th>day</th>\n",
       "      <th>month</th>\n",
       "      <th>year</th>\n",
       "    </tr>\n",
       "  </thead>\n",
       "  <tbody>\n",
       "    <tr>\n",
       "      <th>0</th>\n",
       "      <td>2014-01-01</td>\n",
       "      <td>0.000000</td>\n",
       "      <td>NaN</td>\n",
       "      <td>1</td>\n",
       "      <td>1</td>\n",
       "      <td>2014</td>\n",
       "    </tr>\n",
       "    <tr>\n",
       "      <th>1</th>\n",
       "      <td>2014-01-03</td>\n",
       "      <td>0.000000</td>\n",
       "      <td>NaN</td>\n",
       "      <td>3</td>\n",
       "      <td>1</td>\n",
       "      <td>2014</td>\n",
       "    </tr>\n",
       "    <tr>\n",
       "      <th>2</th>\n",
       "      <td>2014-01-04</td>\n",
       "      <td>0.000000</td>\n",
       "      <td>NaN</td>\n",
       "      <td>4</td>\n",
       "      <td>1</td>\n",
       "      <td>2014</td>\n",
       "    </tr>\n",
       "    <tr>\n",
       "      <th>3</th>\n",
       "      <td>2014-01-05</td>\n",
       "      <td>0.000000</td>\n",
       "      <td>NaN</td>\n",
       "      <td>5</td>\n",
       "      <td>1</td>\n",
       "      <td>2014</td>\n",
       "    </tr>\n",
       "    <tr>\n",
       "      <th>4</th>\n",
       "      <td>2014-01-06</td>\n",
       "      <td>0.000000</td>\n",
       "      <td>NaN</td>\n",
       "      <td>6</td>\n",
       "      <td>1</td>\n",
       "      <td>2014</td>\n",
       "    </tr>\n",
       "    <tr>\n",
       "      <th>...</th>\n",
       "      <td>...</td>\n",
       "      <td>...</td>\n",
       "      <td>...</td>\n",
       "      <td>...</td>\n",
       "      <td>...</td>\n",
       "      <td>...</td>\n",
       "    </tr>\n",
       "    <tr>\n",
       "      <th>2006</th>\n",
       "      <td>2019-30-05</td>\n",
       "      <td>0.418142</td>\n",
       "      <td>Polpa Cítrica</td>\n",
       "      <td>30</td>\n",
       "      <td>5</td>\n",
       "      <td>2019</td>\n",
       "    </tr>\n",
       "    <tr>\n",
       "      <th>2007</th>\n",
       "      <td>2019-30-06</td>\n",
       "      <td>0.374757</td>\n",
       "      <td>Polpa Cítrica</td>\n",
       "      <td>30</td>\n",
       "      <td>6</td>\n",
       "      <td>2019</td>\n",
       "    </tr>\n",
       "    <tr>\n",
       "      <th>2008</th>\n",
       "      <td>2019-30-07</td>\n",
       "      <td>0.414201</td>\n",
       "      <td>Polpa Cítrica</td>\n",
       "      <td>30</td>\n",
       "      <td>7</td>\n",
       "      <td>2019</td>\n",
       "    </tr>\n",
       "    <tr>\n",
       "      <th>2009</th>\n",
       "      <td>2019-31-05</td>\n",
       "      <td>0.392213</td>\n",
       "      <td>Polpa Cítrica</td>\n",
       "      <td>31</td>\n",
       "      <td>5</td>\n",
       "      <td>2019</td>\n",
       "    </tr>\n",
       "    <tr>\n",
       "      <th>2010</th>\n",
       "      <td>2019-31-07</td>\n",
       "      <td>0.372781</td>\n",
       "      <td>Polpa Cítrica</td>\n",
       "      <td>31</td>\n",
       "      <td>7</td>\n",
       "      <td>2019</td>\n",
       "    </tr>\n",
       "  </tbody>\n",
       "</table>\n",
       "<p>2011 rows × 6 columns</p>\n",
       "</div>"
      ],
      "text/plain": [
       "     negotiation_date  sold_price        product  day  month  year\n",
       "0          2014-01-01    0.000000            NaN    1      1  2014\n",
       "1          2014-01-03    0.000000            NaN    3      1  2014\n",
       "2          2014-01-04    0.000000            NaN    4      1  2014\n",
       "3          2014-01-05    0.000000            NaN    5      1  2014\n",
       "4          2014-01-06    0.000000            NaN    6      1  2014\n",
       "...               ...         ...            ...  ...    ...   ...\n",
       "2006       2019-30-05    0.418142  Polpa Cítrica   30      5  2019\n",
       "2007       2019-30-06    0.374757  Polpa Cítrica   30      6  2019\n",
       "2008       2019-30-07    0.414201  Polpa Cítrica   30      7  2019\n",
       "2009       2019-31-05    0.392213  Polpa Cítrica   31      5  2019\n",
       "2010       2019-31-07    0.372781  Polpa Cítrica   31      7  2019\n",
       "\n",
       "[2011 rows x 6 columns]"
      ]
     },
     "execution_count": 4,
     "metadata": {},
     "output_type": "execute_result"
    }
   ],
   "source": [
    "base"
   ]
  },
  {
   "cell_type": "code",
   "execution_count": 5,
   "metadata": {},
   "outputs": [],
   "source": [
    "base = base.iloc[:, 1].values"
   ]
  },
  {
   "cell_type": "code",
   "execution_count": 6,
   "metadata": {
    "colab": {
     "base_uri": "https://localhost:8080/",
     "height": 281
    },
    "colab_type": "code",
    "executionInfo": {
     "elapsed": 2822,
     "status": "ok",
     "timestamp": 1599589130294,
     "user": {
      "displayName": "Denny Seccon",
      "photoUrl": "https://lh3.googleusercontent.com/a-/AOh14GgJKBMgIypXsiOd8ZOSskERpZBMuJN6csHlr9Wo=s64",
      "userId": "03904535882374894686"
     },
     "user_tz": 180
    },
    "id": "4U_CP12CoBmu",
    "outputId": "a3bad56f-ad90-4948-e050-2fc2ae21b31f"
   },
   "outputs": [
    {
     "data": {
      "image/png": "[encoded data removed]",
      "text/plain": [
       "<Figure size 1440x432 with 1 Axes>"
      ]
     },
     "metadata": {
      "needs_background": "light"
     },
     "output_type": "display_data"
    }
   ],
   "source": [
    "import matplotlib.pyplot as plt\n",
    "plt.figure(figsize=(20,6))\n",
    "plt.plot(base)\n",
    "plt.show()"
   ]
  },
  {
   "cell_type": "code",
   "execution_count": 7,
   "metadata": {
    "colab": {},
    "colab_type": "code",
    "executionInfo": {
     "elapsed": 2805,
     "status": "ok",
     "timestamp": 1599589130299,
     "user": {
      "displayName": "Denny Seccon",
      "photoUrl": "https://lh3.googleusercontent.com/a-/AOh14GgJKBMgIypXsiOd8ZOSskERpZBMuJN6csHlr9Wo=s64",
      "userId": "03904535882374894686"
     },
     "user_tz": 180
    },
    "id": "21e3lO6boFEG"
   },
   "outputs": [],
   "source": [
    "periodos = 30 # de quantos em quantos periodos sao os dados ()\n",
    "previsao_futura = 1 # saber um periodo\n",
    "\n",
    "X = base[0:(len(base) - (len(base) % periodos))]\n",
    "X_batches = X.reshape(-1, periodos, 1)\n",
    "y = base[1:(len(base) - (len(base) % periodos)) + previsao_futura]\n",
    "y_batches = y.reshape(-1, periodos, 1)\n",
    "\n",
    "X_teste = base[-(periodos + previsao_futura):]\n",
    "X_teste = X_teste[:periodos]\n",
    "X_teste = X_teste.reshape(-1, periodos, 1)\n",
    "y_teste = base[-(periodos):]\n",
    "y_teste = y_teste.reshape(-1, periodos, 1)"
   ]
  },
  {
   "cell_type": "code",
   "execution_count": 8,
   "metadata": {
    "colab": {
     "base_uri": "https://localhost:8080/",
     "height": 33
    },
    "colab_type": "code",
    "executionInfo": {
     "elapsed": 2782,
     "status": "ok",
     "timestamp": 1599589130304,
     "user": {
      "displayName": "Denny Seccon",
      "photoUrl": "https://lh3.googleusercontent.com/a-/AOh14GgJKBMgIypXsiOd8ZOSskERpZBMuJN6csHlr9Wo=s64",
      "userId": "03904535882374894686"
     },
     "user_tz": 180
    },
    "id": "7q4j8NwkoO_c",
    "outputId": "f201714d-797f-42a5-b112-25e56e0f2cb4"
   },
   "outputs": [
    {
     "data": {
      "text/plain": [
       "((67, 30, 1), (67, 30, 1), (1, 30, 1), (1, 30, 1))"
      ]
     },
     "execution_count": 8,
     "metadata": {},
     "output_type": "execute_result"
    }
   ],
   "source": [
    "X_batches.shape, y_batches.shape, X_teste.shape, y_teste.shape"
   ]
  },
  {
   "cell_type": "code",
   "execution_count": 9,
   "metadata": {
    "colab": {
     "base_uri": "https://localhost:8080/",
     "height": 35
    },
    "colab_type": "code",
    "executionInfo": {
     "elapsed": 4568,
     "status": "ok",
     "timestamp": 1599589132131,
     "user": {
      "displayName": "Denny Seccon",
      "photoUrl": "https://lh3.googleusercontent.com/a-/AOh14GgJKBMgIypXsiOd8ZOSskERpZBMuJN6csHlr9Wo=s64",
      "userId": "03904535882374894686"
     },
     "user_tz": 180
    },
    "id": "VI6U9clZoWVP",
    "outputId": "3d6ab876-9c94-4196-87f5-8fc2da184619"
   },
   "outputs": [
    {
     "data": {
      "text/plain": [
       "'2.4.0'"
      ]
     },
     "execution_count": 9,
     "metadata": {},
     "output_type": "execute_result"
    }
   ],
   "source": [
    "import tensorflow as tf\n",
    "tf.random.set_seed(42)\n",
    "\n",
    "tf.__version__"
   ]
  },
  {
   "cell_type": "code",
   "execution_count": 10,
   "metadata": {
    "colab": {},
    "colab_type": "code",
    "executionInfo": {
     "elapsed": 4548,
     "status": "ok",
     "timestamp": 1599589132132,
     "user": {
      "displayName": "Denny Seccon",
      "photoUrl": "https://lh3.googleusercontent.com/a-/AOh14GgJKBMgIypXsiOd8ZOSskERpZBMuJN6csHlr9Wo=s64",
      "userId": "03904535882374894686"
     },
     "user_tz": 180
    },
    "id": "HUfOgNoSpzSU"
   },
   "outputs": [],
   "source": [
    "entradas = 1\n",
    "neuronios_oculta = 300\n",
    "neuronios_saida = 1"
   ]
  },
  {
   "cell_type": "markdown",
   "metadata": {
    "colab_type": "text",
    "id": "ytuE7-d8J0_u"
   },
   "source": [
    "# Usando RNN Simples"
   ]
  },
  {
   "cell_type": "code",
   "execution_count": 73,
   "metadata": {
    "colab": {},
    "colab_type": "code",
    "executionInfo": {
     "elapsed": 4515,
     "status": "ok",
     "timestamp": 1599589132134,
     "user": {
      "displayName": "Denny Seccon",
      "photoUrl": "https://lh3.googleusercontent.com/a-/AOh14GgJKBMgIypXsiOd8ZOSskERpZBMuJN6csHlr9Wo=s64",
      "userId": "03904535882374894686"
     },
     "user_tz": 180
    },
    "id": "B8RyfbiQp-u4"
   },
   "outputs": [],
   "source": [
    "class Model(tf.keras.Model):\n",
    "    def __init__(self):\n",
    "        super().__init__()\n",
    "        self.rnn = tf.keras.layers.SimpleRNN(units = neuronios_oculta, activation = 'relu', return_sequences = True)\n",
    "        self.dense = tf.keras.layers.Dense(units = neuronios_saida)\n",
    "    \n",
    "    def call(self, inputs):\n",
    "        x = self.rnn(inputs)\n",
    "        x = self.dense(x)\n",
    "\n",
    "        return x"
   ]
  },
  {
   "cell_type": "code",
   "execution_count": 74,
   "metadata": {
    "colab": {
     "base_uri": "https://localhost:8080/",
     "height": 297
    },
    "colab_type": "code",
    "executionInfo": {
     "elapsed": 50039,
     "status": "ok",
     "timestamp": 1599589177697,
     "user": {
      "displayName": "Denny Seccon",
      "photoUrl": "https://lh3.googleusercontent.com/a-/AOh14GgJKBMgIypXsiOd8ZOSskERpZBMuJN6csHlr9Wo=s64",
      "userId": "03904535882374894686"
     },
     "user_tz": 180
    },
    "id": "eAo_BqHtunEw",
    "outputId": "305f1eb8-3f99-40a0-b844-a26de58b7f1d"
   },
   "outputs": [
    {
     "name": "stdout",
     "output_type": "stream",
     "text": [
      "1  erro:  0.090385067313164\n",
      "101  erro:  0.01106162050297986\n",
      "201  erro:  0.008933897276171122\n",
      "301  erro:  0.007978227303300603\n",
      "401  erro:  0.007185763294664194\n",
      "501  erro:  0.006347170321779551\n",
      "601  erro:  0.005634704595304645\n",
      "701  erro:  0.00544640211033708\n",
      "801  erro:  0.0048224129269816935\n",
      "901  erro:  0.004292032387891985\n"
     ]
    }
   ],
   "source": [
    "model = Model()\n",
    "otimizador = tf.keras.optimizers.Adam(learning_rate = 0.001)\n",
    "\n",
    "for epoca in range(1000):\n",
    "    with tf.GradientTape() as tape:\n",
    "        out = model(X_batches)\n",
    "        erro = tf.keras.losses.mean_squared_error(out, y_batches)\n",
    "    \n",
    "    gradientes = tape.gradient(erro, model.trainable_variables)\n",
    "    otimizador.apply_gradients(zip(gradientes, model.trainable_variables))\n",
    "\n",
    "    if epoca % 100 == 0:\n",
    "        print(epoca + 1, ' erro: ', tf.reduce_mean(erro).numpy())"
   ]
  },
  {
   "cell_type": "code",
   "execution_count": 75,
   "metadata": {
    "colab": {
     "base_uri": "https://localhost:8080/",
     "height": 521
    },
    "colab_type": "code",
    "executionInfo": {
     "elapsed": 50017,
     "status": "ok",
     "timestamp": 1599589177703,
     "user": {
      "displayName": "Denny Seccon",
      "photoUrl": "https://lh3.googleusercontent.com/a-/AOh14GgJKBMgIypXsiOd8ZOSskERpZBMuJN6csHlr9Wo=s64",
      "userId": "03904535882374894686"
     },
     "user_tz": 180
    },
    "id": "aRFkzlrvv9Zg",
    "outputId": "3f5b1a77-4d96-46c0-c3da-970e399305d8"
   },
   "outputs": [
    {
     "data": {
      "text/plain": [
       "<tf.Tensor: shape=(1, 30, 1), dtype=float32, numpy=\n",
       "array([[[0.2697851 ],\n",
       "        [0.25590694],\n",
       "        [0.24361752],\n",
       "        [0.26865014],\n",
       "        [0.21392596],\n",
       "        [0.47678927],\n",
       "        [0.41929716],\n",
       "        [0.428753  ],\n",
       "        [0.3153663 ],\n",
       "        [0.40145582],\n",
       "        [0.1515352 ],\n",
       "        [0.3148117 ],\n",
       "        [0.3194734 ],\n",
       "        [0.25763735],\n",
       "        [0.1249037 ],\n",
       "        [0.3158208 ],\n",
       "        [0.287049  ],\n",
       "        [0.19749486],\n",
       "        [0.25985408],\n",
       "        [0.32944748],\n",
       "        [0.29448038],\n",
       "        [0.11275294],\n",
       "        [0.31745604],\n",
       "        [0.34253797],\n",
       "        [0.14990275],\n",
       "        [0.27371126],\n",
       "        [0.28801173],\n",
       "        [0.2399748 ],\n",
       "        [0.21109587],\n",
       "        [0.33879185]]], dtype=float32)>"
      ]
     },
     "execution_count": 75,
     "metadata": {},
     "output_type": "execute_result"
    }
   ],
   "source": [
    "previsoes = model(X_teste)\n",
    "previsoes"
   ]
  },
  {
   "cell_type": "code",
   "execution_count": 76,
   "metadata": {
    "colab": {},
    "colab_type": "code",
    "executionInfo": {
     "elapsed": 50006,
     "status": "ok",
     "timestamp": 1599589177712,
     "user": {
      "displayName": "Denny Seccon",
      "photoUrl": "https://lh3.googleusercontent.com/a-/AOh14GgJKBMgIypXsiOd8ZOSskERpZBMuJN6csHlr9Wo=s64",
      "userId": "03904535882374894686"
     },
     "user_tz": 180
    },
    "id": "TlTrN9hhyA2Q"
   },
   "outputs": [],
   "source": [
    "import numpy as np\n",
    "y_teste = scaler_price.inverse_transform(y_teste.reshape(-1, 1))\n",
    "y_teste2 = np.ravel(y_teste)"
   ]
  },
  {
   "cell_type": "code",
   "execution_count": 77,
   "metadata": {},
   "outputs": [
    {
     "data": {
      "text/plain": [
       "array([316.88, 325.  , 340.  , 316.67, 475.  , 508.5 , 612.5 , 490.  ,\n",
       "       310.94, 314.  , 325.  , 326.25, 317.31, 295.  , 305.83, 309.44,\n",
       "       318.95, 310.94, 318.33, 313.24, 303.33, 306.67, 328.57, 316.67,\n",
       "       321.67, 324.09, 320.  , 305.  , 350.  , 315.  ])"
      ]
     },
     "execution_count": 77,
     "metadata": {},
     "output_type": "execute_result"
    }
   ],
   "source": [
    "y_teste2"
   ]
  },
  {
   "cell_type": "code",
   "execution_count": 78,
   "metadata": {
    "colab": {},
    "colab_type": "code",
    "executionInfo": {
     "elapsed": 49987,
     "status": "ok",
     "timestamp": 1599589177714,
     "user": {
      "displayName": "Denny Seccon",
      "photoUrl": "https://lh3.googleusercontent.com/a-/AOh14GgJKBMgIypXsiOd8ZOSskERpZBMuJN6csHlr9Wo=s64",
      "userId": "03904535882374894686"
     },
     "user_tz": 180
    },
    "id": "VZlrDI_4yhOb"
   },
   "outputs": [],
   "source": [
    "previsoes2 = scaler_price.inverse_transform(previsoes.numpy().reshape(-1, 1))\n",
    "previsoes2 = np.ravel(previsoes2)"
   ]
  },
  {
   "cell_type": "code",
   "execution_count": 79,
   "metadata": {},
   "outputs": [
    {
     "data": {
      "text/plain": [
       "array([333.84958, 324.13486, 315.53226, 333.0551 , 294.74817, 478.7525 ,\n",
       "       438.508  , 445.1271 , 365.7564 , 426.01904, 251.07463, 365.36816,\n",
       "       368.63135, 325.34616, 232.4326 , 366.07455, 345.9343 , 283.2464 ,\n",
       "       326.89786, 375.61325, 351.13626, 223.92706, 367.21924, 384.77658,\n",
       "       249.93192, 336.5979 , 346.60822, 312.98236, 292.76712, 382.15427],\n",
       "      dtype=float32)"
      ]
     },
     "execution_count": 79,
     "metadata": {},
     "output_type": "execute_result"
    }
   ],
   "source": [
    "previsoes2"
   ]
  },
  {
   "cell_type": "code",
   "execution_count": 80,
   "metadata": {
    "colab": {
     "base_uri": "https://localhost:8080/",
     "height": 33
    },
    "colab_type": "code",
    "executionInfo": {
     "elapsed": 49993,
     "status": "ok",
     "timestamp": 1599589177740,
     "user": {
      "displayName": "Denny Seccon",
      "photoUrl": "https://lh3.googleusercontent.com/a-/AOh14GgJKBMgIypXsiOd8ZOSskERpZBMuJN6csHlr9Wo=s64",
      "userId": "03904535882374894686"
     },
     "user_tz": 180
    },
    "id": "n2Y6SzTVykYD",
    "outputId": "9ebbedb5-2322-49c8-cb8f-6ad4de476223"
   },
   "outputs": [
    {
     "data": {
      "text/plain": [
       "52.84259940592449"
      ]
     },
     "execution_count": 80,
     "metadata": {},
     "output_type": "execute_result"
    }
   ],
   "source": [
    "from sklearn.metrics import mean_absolute_error\n",
    "mae = mean_absolute_error(y_teste2, previsoes2)\n",
    "mae"
   ]
  },
  {
   "cell_type": "code",
   "execution_count": 81,
   "metadata": {},
   "outputs": [
    {
     "name": "stdout",
     "output_type": "stream",
     "text": [
      "67.35449470212754\n"
     ]
    }
   ],
   "source": [
    "print(np.sqrt(\n",
    "        np.square(\n",
    "            np.subtract(y_teste2, previsoes2)).mean()))"
   ]
  },
  {
   "cell_type": "code",
   "execution_count": 82,
   "metadata": {
    "colab": {
     "base_uri": "https://localhost:8080/",
     "height": 281
    },
    "colab_type": "code",
    "executionInfo": {
     "elapsed": 49964,
     "status": "ok",
     "timestamp": 1599589177741,
     "user": {
      "displayName": "Denny Seccon",
      "photoUrl": "https://lh3.googleusercontent.com/a-/AOh14GgJKBMgIypXsiOd8ZOSskERpZBMuJN6csHlr9Wo=s64",
      "userId": "03904535882374894686"
     },
     "user_tz": 180
    },
    "id": "1yIsMhFeyuPB",
    "outputId": "868485ec-5c07-45bf-92fc-a994674f3ba3"
   },
   "outputs": [
    {
     "data": {
      "text/plain": [
       "<matplotlib.legend.Legend at 0x7ff92279aac0>"
      ]
     },
     "execution_count": 82,
     "metadata": {},
     "output_type": "execute_result"
    },
    {
     "data": {
      "image/png": "[encoded data removed]",
      "text/plain": [
       "<Figure size 432x288 with 1 Axes>"
      ]
     },
     "metadata": {
      "needs_background": "light"
     },
     "output_type": "display_data"
    }
   ],
   "source": [
    "plt.plot(y_teste2, '*', markersize = 10, label = 'Valor real')\n",
    "plt.plot(previsoes2, 'o', label = 'Previsões')\n",
    "plt.legend()"
   ]
  },
  {
   "cell_type": "code",
   "execution_count": 83,
   "metadata": {
    "colab": {
     "base_uri": "https://localhost:8080/",
     "height": 281
    },
    "colab_type": "code",
    "executionInfo": {
     "elapsed": 50425,
     "status": "ok",
     "timestamp": 1599589178233,
     "user": {
      "displayName": "Denny Seccon",
      "photoUrl": "https://lh3.googleusercontent.com/a-/AOh14GgJKBMgIypXsiOd8ZOSskERpZBMuJN6csHlr9Wo=s64",
      "userId": "03904535882374894686"
     },
     "user_tz": 180
    },
    "id": "2yevGjKCy4WW",
    "outputId": "7ad1b291-b200-4041-8d07-ed4f0ff6498f"
   },
   "outputs": [
    {
     "data": {
      "text/plain": [
       "<matplotlib.legend.Legend at 0x7ff922804fd0>"
      ]
     },
     "execution_count": 83,
     "metadata": {},
     "output_type": "execute_result"
    },
    {
     "data": {
      "image/png": "[encoded data removed]",
      "text/plain": [
       "<Figure size 432x288 with 1 Axes>"
      ]
     },
     "metadata": {
      "needs_background": "light"
     },
     "output_type": "display_data"
    }
   ],
   "source": [
    "plt.plot(y_teste2, label = 'Valor real')\n",
    "plt.plot(y_teste2, 'w*', markersize = 10, color = 'red')\n",
    "plt.plot(previsoes2, label = 'Previsões')\n",
    "plt.legend()"
   ]
  },
  {
   "cell_type": "markdown",
   "metadata": {
    "colab_type": "text",
    "id": "l_MlsqQtJ7SH"
   },
   "source": [
    "# Usando LSTM"
   ]
  },
  {
   "cell_type": "code",
   "execution_count": 11,
   "metadata": {
    "colab": {},
    "colab_type": "code",
    "executionInfo": {
     "elapsed": 50368,
     "status": "ok",
     "timestamp": 1599589178234,
     "user": {
      "displayName": "Denny Seccon",
      "photoUrl": "https://lh3.googleusercontent.com/a-/AOh14GgJKBMgIypXsiOd8ZOSskERpZBMuJN6csHlr9Wo=s64",
      "userId": "03904535882374894686"
     },
     "user_tz": 180
    },
    "id": "TWk3o7kbJ6kq"
   },
   "outputs": [],
   "source": [
    "class Model(tf.keras.Model):\n",
    "    def __init__(self):\n",
    "        super().__init__()\n",
    "        self.lstm = tf.keras.layers.LSTM(units = neuronios_oculta, activation = 'relu', return_sequences = True)\n",
    "        self.dense = tf.keras.layers.Dense(units = neuronios_saida)\n",
    "    \n",
    "    def call(self, inputs):\n",
    "        x = self.lstm(inputs)\n",
    "        x = self.dense(x)\n",
    "\n",
    "        return x"
   ]
  },
  {
   "cell_type": "code",
   "execution_count": 12,
   "metadata": {
    "colab": {
     "base_uri": "https://localhost:8080/",
     "height": 297
    },
    "colab_type": "code",
    "executionInfo": {
     "elapsed": 131420,
     "status": "ok",
     "timestamp": 1599589259310,
     "user": {
      "displayName": "Denny Seccon",
      "photoUrl": "https://lh3.googleusercontent.com/a-/AOh14GgJKBMgIypXsiOd8ZOSskERpZBMuJN6csHlr9Wo=s64",
      "userId": "03904535882374894686"
     },
     "user_tz": 180
    },
    "id": "qubhgGx8J6k0",
    "outputId": "3f770af7-48a8-4b6b-db8f-63b05b77308f"
   },
   "outputs": [
    {
     "name": "stdout",
     "output_type": "stream",
     "text": [
      "1  erro:  0.1933859513798325\n",
      "101  erro:  0.0397423517012855\n",
      "201  erro:  0.033545196486991564\n",
      "301  erro:  0.0309259150161248\n",
      "401  erro:  0.02886219136897383\n",
      "501  erro:  0.026840012301044908\n",
      "601  erro:  0.02513318833101587\n",
      "701  erro:  0.02309185974788023\n",
      "801  erro:  0.02279161906326143\n",
      "901  erro:  0.021042163376644083\n"
     ]
    }
   ],
   "source": [
    "model = Model()\n",
    "otimizador = tf.keras.optimizers.Adam(learning_rate = 0.001)\n",
    "\n",
    "for epoca in range(1000):\n",
    "    with tf.GradientTape() as tape:\n",
    "        out = model(X_batches)\n",
    "        erro = tf.keras.losses.mean_squared_error(out, y_batches)\n",
    "    \n",
    "    gradientes = tape.gradient(erro, model.trainable_variables)\n",
    "    otimizador.apply_gradients(zip(gradientes, model.trainable_variables))\n",
    "\n",
    "    if epoca % 100 == 0:\n",
    "        print(epoca + 1, ' erro: ', tf.reduce_mean(erro).numpy())"
   ]
  },
  {
   "cell_type": "code",
   "execution_count": 13,
   "metadata": {
    "colab": {
     "base_uri": "https://localhost:8080/",
     "height": 521
    },
    "colab_type": "code",
    "executionInfo": {
     "elapsed": 131390,
     "status": "ok",
     "timestamp": 1599589259326,
     "user": {
      "displayName": "Denny Seccon",
      "photoUrl": "https://lh3.googleusercontent.com/a-/AOh14GgJKBMgIypXsiOd8ZOSskERpZBMuJN6csHlr9Wo=s64",
      "userId": "03904535882374894686"
     },
     "user_tz": 180
    },
    "id": "4ebRp4n3J6k8",
    "outputId": "2370e0a3-8309-4798-8bf2-05298c19d5b1"
   },
   "outputs": [
    {
     "data": {
      "text/plain": [
       "<tf.Tensor: shape=(1, 30, 1), dtype=float32, numpy=\n",
       "array([[[0.3422372 ],\n",
       "        [0.40950665],\n",
       "        [0.51190346],\n",
       "        [0.58858556],\n",
       "        [0.56033534],\n",
       "        [0.52768946],\n",
       "        [0.38168725],\n",
       "        [0.44534197],\n",
       "        [0.59529877],\n",
       "        [0.36315325],\n",
       "        [0.45310172],\n",
       "        [0.53227615],\n",
       "        [0.685494  ],\n",
       "        [0.66158545],\n",
       "        [0.55326533],\n",
       "        [0.43970215],\n",
       "        [0.49102423],\n",
       "        [0.5886156 ],\n",
       "        [0.4857621 ],\n",
       "        [0.42649814],\n",
       "        [0.44032103],\n",
       "        [0.5503591 ],\n",
       "        [0.6444423 ],\n",
       "        [0.7101878 ],\n",
       "        [0.6259772 ],\n",
       "        [0.49261174],\n",
       "        [0.4717879 ],\n",
       "        [0.4863222 ],\n",
       "        [0.4696766 ],\n",
       "        [0.4710014 ]]], dtype=float32)>"
      ]
     },
     "execution_count": 13,
     "metadata": {},
     "output_type": "execute_result"
    }
   ],
   "source": [
    "previsoes = model(X_teste)\n",
    "previsoes"
   ]
  },
  {
   "cell_type": "code",
   "execution_count": 14,
   "metadata": {
    "colab": {
     "base_uri": "https://localhost:8080/",
     "height": 33
    },
    "colab_type": "code",
    "executionInfo": {
     "elapsed": 131341,
     "status": "ok",
     "timestamp": 1599589259328,
     "user": {
      "displayName": "Denny Seccon",
      "photoUrl": "https://lh3.googleusercontent.com/a-/AOh14GgJKBMgIypXsiOd8ZOSskERpZBMuJN6csHlr9Wo=s64",
      "userId": "03904535882374894686"
     },
     "user_tz": 180
    },
    "id": "IifZ9i6FJ6lJ",
    "outputId": "c75c1e3b-1181-4d7e-a45b-a40900ff90bc"
   },
   "outputs": [
    {
     "data": {
      "text/plain": [
       "array([321.67, 500.  , 613.75, 600.  , 580.  , 314.38, 324.09, 618.  ,\n",
       "       372.  , 316.88, 320.  , 520.  , 620.  , 609.38, 385.  , 325.  ,\n",
       "       559.  , 620.  , 527.5 , 360.  , 340.  , 305.  , 532.8 , 609.5 ,\n",
       "       487.5 , 353.33, 316.67, 350.  , 331.42, 315.  ])"
      ]
     },
     "execution_count": 14,
     "metadata": {},
     "output_type": "execute_result"
    }
   ],
   "source": [
    "import numpy as np\n",
    "y_teste = scaler_price.inverse_transform(y_teste.reshape(-1, 1))\n",
    "y_teste2 = np.ravel(y_teste)\n",
    "y_teste2"
   ]
  },
  {
   "cell_type": "code",
   "execution_count": 15,
   "metadata": {},
   "outputs": [
    {
     "data": {
      "text/plain": [
       "array([289.19043, 346.0331 , 432.55844, 497.3548 , 473.48337, 445.89758,\n",
       "       322.52573, 376.31396, 503.02747, 306.8645 , 382.87097, 449.77335,\n",
       "       579.24243, 559.03973, 467.50922, 371.5483 , 414.91547, 497.3802 ,\n",
       "       410.46896, 360.39093, 372.07126, 465.0534 , 544.5538 , 600.1087 ,\n",
       "       528.95074, 416.25693, 398.66077, 410.94226, 396.87674, 397.9962 ],\n",
       "      dtype=float32)"
      ]
     },
     "execution_count": 15,
     "metadata": {},
     "output_type": "execute_result"
    }
   ],
   "source": [
    "previsoes2 = scaler_price.inverse_transform(previsoes.numpy().reshape(-1, 1))\n",
    "previsoes2 = np.ravel(previsoes2)\n",
    "previsoes2"
   ]
  },
  {
   "cell_type": "code",
   "execution_count": 16,
   "metadata": {},
   "outputs": [
    {
     "data": {
      "text/plain": [
       "81.30077876790364"
      ]
     },
     "execution_count": 16,
     "metadata": {},
     "output_type": "execute_result"
    }
   ],
   "source": [
    "from sklearn.metrics import mean_absolute_error\n",
    "mae = mean_absolute_error(y_teste2, previsoes2)\n",
    "mae"
   ]
  },
  {
   "cell_type": "code",
   "execution_count": 17,
   "metadata": {},
   "outputs": [
    {
     "data": {
      "text/plain": [
       "<matplotlib.legend.Legend at 0x7fc4d9cccf70>"
      ]
     },
     "execution_count": 17,
     "metadata": {},
     "output_type": "execute_result"
    },
    {
     "data": {
      "image/png": "[encoded data removed]",
      "text/plain": [
       "<Figure size 432x288 with 1 Axes>"
      ]
     },
     "metadata": {
      "needs_background": "light"
     },
     "output_type": "display_data"
    }
   ],
   "source": [
    "plt.plot(y_teste2, label = 'Valor real')\n",
    "plt.plot(y_teste2, 'w*', markersize = 10, color = 'red')\n",
    "plt.plot(previsoes2, label = 'Previsões')\n",
    "plt.legend()"
   ]
  },
  {
   "cell_type": "code",
   "execution_count": 18,
   "metadata": {},
   "outputs": [
    {
     "name": "stdout",
     "output_type": "stream",
     "text": [
      "99.69270064841558\n"
     ]
    }
   ],
   "source": [
    "print(np.sqrt(\n",
    "        np.square(\n",
    "            np.subtract(y_teste2, previsoes2)).mean()))"
   ]
  },
  {
   "cell_type": "code",
   "execution_count": null,
   "metadata": {},
   "outputs": [],
   "source": []
  }
 ],
 "metadata": {
  "colab": {
   "authorship_tag": "ABX9TyOxnY7HsNWf4hxii2VK8bRg",
   "collapsed_sections": [],
   "name": "1 serie_temporal_rede_recorrente.ipynb",
   "provenance": [],
   "toc_visible": true
  },
  "kernelspec": {
   "display_name": "Python 3",
   "language": "python",
   "name": "python3"
  },
  "language_info": {
   "codemirror_mode": {
    "name": "ipython",
    "version": 3
   },
   "file_extension": ".py",
   "mimetype": "text/x-python",
   "name": "python",
   "nbconvert_exporter": "python",
   "pygments_lexer": "ipython3",
   "version": "3.8.2"
  }
 },
 "nbformat": 4,
 "nbformat_minor": 1
}
